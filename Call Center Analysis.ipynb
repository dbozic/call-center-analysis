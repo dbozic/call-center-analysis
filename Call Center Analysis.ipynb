{
 "cells": [
  {
   "cell_type": "markdown",
   "metadata": {},
   "source": [
    "  # Call Center Analysis"
   ]
  },
  {
   "cell_type": "markdown",
   "metadata": {},
   "source": [
    "This Jupyter notebook explores a company's marketing call center data to extract insights on leads, signups, and regions with most promising conversion patterns. \n",
    "\n",
    "* **Part 1: Data Processing**: understanding the dataset and merging the datasets.\n",
    "\n",
    "    -  Packages and Data Upload\n",
    "    -  Understanding the Calls dataset\n",
    "    -  Understanding the Leads dataset\n",
    "    -  Understanding the Signups dataset\n",
    "    -  Merging the datasets \n",
    "* **Part 2: Metrics**: defining metrics and extracting insights. "
   ]
  },
  {
   "cell_type": "markdown",
   "metadata": {},
   "source": [
    "# Part 1: Data Processing"
   ]
  },
  {
   "cell_type": "markdown",
   "metadata": {},
   "source": [
    "In this part, I process the information across the entirety of the dataset. I begin by understanding the dataset and its contents on a high level by implementing seaborn's heatmap capacities, and cleaning where necessary. "
   ]
  },
  {
   "cell_type": "markdown",
   "metadata": {},
   "source": [
    "**Packages and Data Upload**"
   ]
  },
  {
   "cell_type": "code",
   "execution_count": 1,
   "metadata": {},
   "outputs": [],
   "source": [
    "# Numerical packages\n",
    "\n",
    "import pandas as pd\n",
    "import numpy as np"
   ]
  },
  {
   "cell_type": "code",
   "execution_count": 2,
   "metadata": {},
   "outputs": [],
   "source": [
    "# Plotting packages\n",
    "\n",
    "import matplotlib.pyplot as plt\n",
    "import seaborn as sns"
   ]
  },
  {
   "cell_type": "code",
   "execution_count": 3,
   "metadata": {},
   "outputs": [],
   "source": [
    "# Inline call\n",
    "\n",
    "%matplotlib inline"
   ]
  },
  {
   "cell_type": "code",
   "execution_count": 4,
   "metadata": {},
   "outputs": [],
   "source": [
    "# Data Upload\n",
    "\n",
    "calls_data = pd.read_csv('calls.csv')\n",
    "leads_data = pd.read_csv('leads.csv')\n",
    "signups_data = pd.read_csv('signups.csv')"
   ]
  },
  {
   "cell_type": "markdown",
   "metadata": {},
   "source": [
    "**Understanding the Calls dataset**"
   ]
  },
  {
   "cell_type": "code",
   "execution_count": 5,
   "metadata": {},
   "outputs": [
    {
     "data": {
      "text/html": [
       "<div>\n",
       "<style scoped>\n",
       "    .dataframe tbody tr th:only-of-type {\n",
       "        vertical-align: middle;\n",
       "    }\n",
       "\n",
       "    .dataframe tbody tr th {\n",
       "        vertical-align: top;\n",
       "    }\n",
       "\n",
       "    .dataframe thead th {\n",
       "        text-align: right;\n",
       "    }\n",
       "</style>\n",
       "<table border=\"1\" class=\"dataframe\">\n",
       "  <thead>\n",
       "    <tr style=\"text-align: right;\">\n",
       "      <th></th>\n",
       "      <th>Phone Number</th>\n",
       "      <th>Call Outcome</th>\n",
       "      <th>Agent</th>\n",
       "      <th>Call Number</th>\n",
       "    </tr>\n",
       "  </thead>\n",
       "  <tbody>\n",
       "    <tr>\n",
       "      <th>0</th>\n",
       "      <td>6412714192</td>\n",
       "      <td>NOT INTERESTED</td>\n",
       "      <td>black</td>\n",
       "      <td>0</td>\n",
       "    </tr>\n",
       "    <tr>\n",
       "      <th>1</th>\n",
       "      <td>2878259249</td>\n",
       "      <td>ANSWER MACHINE</td>\n",
       "      <td>red</td>\n",
       "      <td>1</td>\n",
       "    </tr>\n",
       "    <tr>\n",
       "      <th>2</th>\n",
       "      <td>5762800010</td>\n",
       "      <td>INTERESTED</td>\n",
       "      <td>red</td>\n",
       "      <td>2</td>\n",
       "    </tr>\n",
       "    <tr>\n",
       "      <th>3</th>\n",
       "      <td>9742942608</td>\n",
       "      <td>ANSWER MACHINE</td>\n",
       "      <td>orange</td>\n",
       "      <td>3</td>\n",
       "    </tr>\n",
       "    <tr>\n",
       "      <th>4</th>\n",
       "      <td>5053320104</td>\n",
       "      <td>INTERESTED</td>\n",
       "      <td>orange</td>\n",
       "      <td>4</td>\n",
       "    </tr>\n",
       "  </tbody>\n",
       "</table>\n",
       "</div>"
      ],
      "text/plain": [
       "   Phone Number    Call Outcome   Agent  Call Number\n",
       "0    6412714192  NOT INTERESTED   black            0\n",
       "1    2878259249  ANSWER MACHINE     red            1\n",
       "2    5762800010      INTERESTED     red            2\n",
       "3    9742942608  ANSWER MACHINE  orange            3\n",
       "4    5053320104      INTERESTED  orange            4"
      ]
     },
     "execution_count": 5,
     "metadata": {},
     "output_type": "execute_result"
    }
   ],
   "source": [
    "# Understanding the content of each column in the dataset\n",
    "\n",
    "calls_data.head()"
   ]
  },
  {
   "cell_type": "code",
   "execution_count": 6,
   "metadata": {},
   "outputs": [
    {
     "name": "stdout",
     "output_type": "stream",
     "text": [
      "<class 'pandas.core.frame.DataFrame'>\n",
      "RangeIndex: 10000 entries, 0 to 9999\n",
      "Data columns (total 4 columns):\n",
      "Phone Number    10000 non-null int64\n",
      "Call Outcome    10000 non-null object\n",
      "Agent           10000 non-null object\n",
      "Call Number     10000 non-null int64\n",
      "dtypes: int64(2), object(2)\n",
      "memory usage: 312.6+ KB\n"
     ]
    }
   ],
   "source": [
    "# Understanding the type of data in each column in the dataset\n",
    "\n",
    "calls_data.info()"
   ]
  },
  {
   "cell_type": "markdown",
   "metadata": {},
   "source": [
    "*Note*: This dataset has 10,000 entries. "
   ]
  },
  {
   "cell_type": "code",
   "execution_count": 7,
   "metadata": {},
   "outputs": [
    {
     "data": {
      "text/plain": [
       "<matplotlib.axes._subplots.AxesSubplot at 0xc16bb70>"
      ]
     },
     "execution_count": 7,
     "metadata": {},
     "output_type": "execute_result"
    },
    {
     "data": {
      "image/png": "[encoded data removed]",
      "text/plain": [
       "<Figure size 1080x720 with 1 Axes>"
      ]
     },
     "metadata": {
      "needs_background": "light"
     },
     "output_type": "display_data"
    }
   ],
   "source": [
    "# Checking for presence of null values in each column, where purple = data and yellow = NULL\n",
    "\n",
    "fig, ax = plt.subplots(figsize = (15,10))\n",
    "sns.heatmap(calls_data.isnull(), yticklabels=False, cbar=False, cmap='viridis')"
   ]
  },
  {
   "cell_type": "markdown",
   "metadata": {},
   "source": [
    "   *Interpretation*: No null values in this dataset."
   ]
  },
  {
   "cell_type": "code",
   "execution_count": 8,
   "metadata": {},
   "outputs": [
    {
     "name": "stdout",
     "output_type": "stream",
     "text": [
      "['NOT INTERESTED' 'ANSWER MACHINE' 'INTERESTED' 'CALL BACK LATER'\n",
      " 'DEAD LINE']\n",
      "\n",
      "['black' 'red' 'orange' 'green' 'blue']\n",
      "\n"
     ]
    }
   ],
   "source": [
    "# Understanding the unique values of each nominal categorical column\n",
    "\n",
    "print(calls_data['Call Outcome'].unique())\n",
    "print('')\n",
    "print(calls_data['Agent'].unique())\n",
    "print('')"
   ]
  },
  {
   "cell_type": "markdown",
   "metadata": {},
   "source": [
    "*Interpretation*: We have five categorical values in each of these columns."
   ]
  },
  {
   "cell_type": "markdown",
   "metadata": {},
   "source": [
    "**Understanding the Leads dataset**"
   ]
  },
  {
   "cell_type": "code",
   "execution_count": 9,
   "metadata": {},
   "outputs": [
    {
     "data": {
      "text/html": [
       "<div>\n",
       "<style scoped>\n",
       "    .dataframe tbody tr th:only-of-type {\n",
       "        vertical-align: middle;\n",
       "    }\n",
       "\n",
       "    .dataframe tbody tr th {\n",
       "        vertical-align: top;\n",
       "    }\n",
       "\n",
       "    .dataframe thead th {\n",
       "        text-align: right;\n",
       "    }\n",
       "</style>\n",
       "<table border=\"1\" class=\"dataframe\">\n",
       "  <thead>\n",
       "    <tr style=\"text-align: right;\">\n",
       "      <th></th>\n",
       "      <th>Name</th>\n",
       "      <th>Phone Number</th>\n",
       "      <th>Region</th>\n",
       "      <th>Sector</th>\n",
       "      <th>Age</th>\n",
       "    </tr>\n",
       "  </thead>\n",
       "  <tbody>\n",
       "    <tr>\n",
       "      <th>0</th>\n",
       "      <td>Camron MORA</td>\n",
       "      <td>7740561309</td>\n",
       "      <td>south-west</td>\n",
       "      <td>retail</td>\n",
       "      <td>66</td>\n",
       "    </tr>\n",
       "    <tr>\n",
       "      <th>1</th>\n",
       "      <td>Mohamed MATHEWS</td>\n",
       "      <td>6521342149</td>\n",
       "      <td>midlands</td>\n",
       "      <td>entertainment</td>\n",
       "      <td>51</td>\n",
       "    </tr>\n",
       "    <tr>\n",
       "      <th>2</th>\n",
       "      <td>Will SMITH</td>\n",
       "      <td>6391051549</td>\n",
       "      <td>south-west</td>\n",
       "      <td>retail</td>\n",
       "      <td>30</td>\n",
       "    </tr>\n",
       "    <tr>\n",
       "      <th>3</th>\n",
       "      <td>Eden REESE</td>\n",
       "      <td>4867138529</td>\n",
       "      <td>north-east</td>\n",
       "      <td>retail</td>\n",
       "      <td>59</td>\n",
       "    </tr>\n",
       "    <tr>\n",
       "      <th>4</th>\n",
       "      <td>Alva MORAN</td>\n",
       "      <td>471250244</td>\n",
       "      <td>south</td>\n",
       "      <td>retail</td>\n",
       "      <td>55</td>\n",
       "    </tr>\n",
       "  </tbody>\n",
       "</table>\n",
       "</div>"
      ],
      "text/plain": [
       "              Name  Phone Number      Region         Sector  Age\n",
       "0      Camron MORA    7740561309  south-west         retail   66\n",
       "1  Mohamed MATHEWS    6521342149    midlands  entertainment   51\n",
       "2       Will SMITH    6391051549  south-west         retail   30\n",
       "3       Eden REESE    4867138529  north-east         retail   59\n",
       "4       Alva MORAN     471250244       south         retail   55"
      ]
     },
     "execution_count": 9,
     "metadata": {},
     "output_type": "execute_result"
    }
   ],
   "source": [
    "# Understanding the content of each column in the dataset\n",
    "\n",
    "leads_data.head()"
   ]
  },
  {
   "cell_type": "code",
   "execution_count": 10,
   "metadata": {},
   "outputs": [
    {
     "name": "stdout",
     "output_type": "stream",
     "text": [
      "<class 'pandas.core.frame.DataFrame'>\n",
      "RangeIndex: 19964 entries, 0 to 19963\n",
      "Data columns (total 5 columns):\n",
      "Name            19964 non-null object\n",
      "Phone Number    19964 non-null int64\n",
      "Region          19964 non-null object\n",
      "Sector          19964 non-null object\n",
      "Age             19964 non-null int64\n",
      "dtypes: int64(2), object(3)\n",
      "memory usage: 779.9+ KB\n"
     ]
    }
   ],
   "source": [
    "# Understanding the type of data in each column in the dataset\n",
    "\n",
    "leads_data.info()"
   ]
  },
  {
   "cell_type": "markdown",
   "metadata": {},
   "source": [
    "*Note*: This dataset has 19,664 entries. This means 19,664 leads were fed into the call system, but not everyone was actually called based on the 10,000 calls in the calls dataset."
   ]
  },
  {
   "cell_type": "code",
   "execution_count": 11,
   "metadata": {},
   "outputs": [
    {
     "data": {
      "text/plain": [
       "<matplotlib.axes._subplots.AxesSubplot at 0xc563e10>"
      ]
     },
     "execution_count": 11,
     "metadata": {},
     "output_type": "execute_result"
    },
    {
     "data": {
      "image/png": "[encoded data removed]",
      "text/plain": [
       "<Figure size 1080x720 with 1 Axes>"
      ]
     },
     "metadata": {
      "needs_background": "light"
     },
     "output_type": "display_data"
    }
   ],
   "source": [
    "# Checking for presence of null values in each columns, where purple = data and yellow = NULL\n",
    "\n",
    "fig, ax = plt.subplots(figsize = (15,10))\n",
    "sns.heatmap(leads_data.isnull(), yticklabels=False, cbar=False, cmap='viridis')"
   ]
  },
  {
   "cell_type": "markdown",
   "metadata": {},
   "source": [
    "*Interpretation*: Dataset is completely full with no missing values. "
   ]
  },
  {
   "cell_type": "code",
   "execution_count": 12,
   "metadata": {},
   "outputs": [
    {
     "name": "stdout",
     "output_type": "stream",
     "text": [
      "['south-west' 'midlands' 'north-east' 'south' 'north-west' 'scotland'\n",
      " 'south-east' 'wales' 'london' 'northern-ireland']\n",
      "\n",
      "['retail' 'entertainment' 'wholesale' 'food' 'construction' 'agriculture'\n",
      " 'consultancy']\n",
      "\n"
     ]
    }
   ],
   "source": [
    "# Understanding the unique values of each nominal categorical column\n",
    "\n",
    "print(leads_data['Region'].unique())\n",
    "print('')\n",
    "print(leads_data['Sector'].unique())\n",
    "print('')"
   ]
  },
  {
   "cell_type": "markdown",
   "metadata": {},
   "source": [
    "**Understanding the Signups dataset**"
   ]
  },
  {
   "cell_type": "code",
   "execution_count": 13,
   "metadata": {},
   "outputs": [
    {
     "data": {
      "text/html": [
       "<div>\n",
       "<style scoped>\n",
       "    .dataframe tbody tr th:only-of-type {\n",
       "        vertical-align: middle;\n",
       "    }\n",
       "\n",
       "    .dataframe tbody tr th {\n",
       "        vertical-align: top;\n",
       "    }\n",
       "\n",
       "    .dataframe thead th {\n",
       "        text-align: right;\n",
       "    }\n",
       "</style>\n",
       "<table border=\"1\" class=\"dataframe\">\n",
       "  <thead>\n",
       "    <tr style=\"text-align: right;\">\n",
       "      <th></th>\n",
       "      <th>Lead</th>\n",
       "      <th>Approval Decision</th>\n",
       "    </tr>\n",
       "  </thead>\n",
       "  <tbody>\n",
       "    <tr>\n",
       "      <th>0</th>\n",
       "      <td>Liddie CHEN</td>\n",
       "      <td>APPROVED</td>\n",
       "    </tr>\n",
       "    <tr>\n",
       "      <th>1</th>\n",
       "      <td>Ariel CAREY</td>\n",
       "      <td>REJECTED</td>\n",
       "    </tr>\n",
       "    <tr>\n",
       "      <th>2</th>\n",
       "      <td>Rylie WALSH</td>\n",
       "      <td>APPROVED</td>\n",
       "    </tr>\n",
       "    <tr>\n",
       "      <th>3</th>\n",
       "      <td>Aurelia RODRIGUEZ</td>\n",
       "      <td>REJECTED</td>\n",
       "    </tr>\n",
       "    <tr>\n",
       "      <th>4</th>\n",
       "      <td>Jaycee GOLDEN</td>\n",
       "      <td>APPROVED</td>\n",
       "    </tr>\n",
       "  </tbody>\n",
       "</table>\n",
       "</div>"
      ],
      "text/plain": [
       "                Lead Approval Decision\n",
       "0        Liddie CHEN          APPROVED\n",
       "1        Ariel CAREY          REJECTED\n",
       "2        Rylie WALSH          APPROVED\n",
       "3  Aurelia RODRIGUEZ          REJECTED\n",
       "4      Jaycee GOLDEN          APPROVED"
      ]
     },
     "execution_count": 13,
     "metadata": {},
     "output_type": "execute_result"
    }
   ],
   "source": [
    "# Understanding the content of each column in the dataset\n",
    "\n",
    "signups_data.head()"
   ]
  },
  {
   "cell_type": "code",
   "execution_count": 14,
   "metadata": {},
   "outputs": [
    {
     "name": "stdout",
     "output_type": "stream",
     "text": [
      "<class 'pandas.core.frame.DataFrame'>\n",
      "RangeIndex: 1506 entries, 0 to 1505\n",
      "Data columns (total 2 columns):\n",
      "Lead                 1506 non-null object\n",
      "Approval Decision    1506 non-null object\n",
      "dtypes: object(2)\n",
      "memory usage: 23.6+ KB\n"
     ]
    }
   ],
   "source": [
    "# Understanding the type of data in each column in the dataset\n",
    "\n",
    "signups_data.info()"
   ]
  },
  {
   "cell_type": "markdown",
   "metadata": {},
   "source": [
    "*Note*: This dataset has 1,506 entries. This means, after all the calls, there was a total of 1,506 signups. "
   ]
  },
  {
   "cell_type": "code",
   "execution_count": 15,
   "metadata": {},
   "outputs": [
    {
     "data": {
      "text/plain": [
       "<matplotlib.axes._subplots.AxesSubplot at 0xc47c550>"
      ]
     },
     "execution_count": 15,
     "metadata": {},
     "output_type": "execute_result"
    },
    {
     "data": {
      "image/png": "[encoded data removed]",
      "text/plain": [
       "<Figure size 1080x720 with 1 Axes>"
      ]
     },
     "metadata": {
      "needs_background": "light"
     },
     "output_type": "display_data"
    }
   ],
   "source": [
    "# Checking for presence of null values in each columns, where purple = data and yellow = NULL\n",
    "\n",
    "fig, ax = plt.subplots(figsize = (15,10))\n",
    "sns.heatmap(signups_data.isnull(), yticklabels=False, cbar=False, cmap='viridis')"
   ]
  },
  {
   "cell_type": "markdown",
   "metadata": {},
   "source": [
    "*Interpretation*: Dataset is completely full with no missing values. "
   ]
  },
  {
   "cell_type": "code",
   "execution_count": 16,
   "metadata": {},
   "outputs": [
    {
     "name": "stdout",
     "output_type": "stream",
     "text": [
      "['APPROVED' 'REJECTED']\n",
      "\n"
     ]
    }
   ],
   "source": [
    "# Understanding the unique values of each nominal categorical column\n",
    "\n",
    "print(signups_data['Approval Decision'].unique())\n",
    "print('')"
   ]
  },
  {
   "cell_type": "markdown",
   "metadata": {},
   "source": [
    "*Interpretation*: Only two target categories, Approved and Rejected. We can interpret this as a Bernoulli trial, with 'Approved' treated as success (1), and 'Rejected' as failure (0)."
   ]
  },
  {
   "cell_type": "markdown",
   "metadata": {},
   "source": [
    "**Merging the datasets**"
   ]
  },
  {
   "cell_type": "markdown",
   "metadata": {},
   "source": [
    "Our main dataset is 'calls' as it contains the information on contacted leads, so we'll be joining the other datasets on this primary frame."
   ]
  },
  {
   "cell_type": "code",
   "execution_count": 17,
   "metadata": {},
   "outputs": [],
   "source": [
    "# Merging the datasets on first join:\n",
    "\n",
    "data_interim = calls_data.merge(leads_data, how = 'left', on ='Phone Number')"
   ]
  },
  {
   "cell_type": "code",
   "execution_count": 18,
   "metadata": {},
   "outputs": [
    {
     "data": {
      "text/html": [
       "<div>\n",
       "<style scoped>\n",
       "    .dataframe tbody tr th:only-of-type {\n",
       "        vertical-align: middle;\n",
       "    }\n",
       "\n",
       "    .dataframe tbody tr th {\n",
       "        vertical-align: top;\n",
       "    }\n",
       "\n",
       "    .dataframe thead th {\n",
       "        text-align: right;\n",
       "    }\n",
       "</style>\n",
       "<table border=\"1\" class=\"dataframe\">\n",
       "  <thead>\n",
       "    <tr style=\"text-align: right;\">\n",
       "      <th></th>\n",
       "      <th>Phone Number</th>\n",
       "      <th>Call Outcome</th>\n",
       "      <th>Agent</th>\n",
       "      <th>Call Number</th>\n",
       "      <th>Name</th>\n",
       "      <th>Region</th>\n",
       "      <th>Sector</th>\n",
       "      <th>Age</th>\n",
       "    </tr>\n",
       "  </thead>\n",
       "  <tbody>\n",
       "    <tr>\n",
       "      <th>0</th>\n",
       "      <td>6412714192</td>\n",
       "      <td>NOT INTERESTED</td>\n",
       "      <td>black</td>\n",
       "      <td>0</td>\n",
       "      <td>Autumn DAVIS</td>\n",
       "      <td>south</td>\n",
       "      <td>entertainment</td>\n",
       "      <td>48</td>\n",
       "    </tr>\n",
       "    <tr>\n",
       "      <th>1</th>\n",
       "      <td>2878259249</td>\n",
       "      <td>ANSWER MACHINE</td>\n",
       "      <td>red</td>\n",
       "      <td>1</td>\n",
       "      <td>Henry MILLER</td>\n",
       "      <td>wales</td>\n",
       "      <td>retail</td>\n",
       "      <td>59</td>\n",
       "    </tr>\n",
       "    <tr>\n",
       "      <th>2</th>\n",
       "      <td>5762800010</td>\n",
       "      <td>INTERESTED</td>\n",
       "      <td>red</td>\n",
       "      <td>2</td>\n",
       "      <td>Liddie CHEN</td>\n",
       "      <td>south-west</td>\n",
       "      <td>retail</td>\n",
       "      <td>21</td>\n",
       "    </tr>\n",
       "    <tr>\n",
       "      <th>3</th>\n",
       "      <td>9742942608</td>\n",
       "      <td>ANSWER MACHINE</td>\n",
       "      <td>orange</td>\n",
       "      <td>3</td>\n",
       "      <td>Alyson YU</td>\n",
       "      <td>north-west</td>\n",
       "      <td>wholesale</td>\n",
       "      <td>72</td>\n",
       "    </tr>\n",
       "    <tr>\n",
       "      <th>4</th>\n",
       "      <td>5053320104</td>\n",
       "      <td>INTERESTED</td>\n",
       "      <td>orange</td>\n",
       "      <td>4</td>\n",
       "      <td>Ariel CAREY</td>\n",
       "      <td>north-west</td>\n",
       "      <td>construction</td>\n",
       "      <td>35</td>\n",
       "    </tr>\n",
       "  </tbody>\n",
       "</table>\n",
       "</div>"
      ],
      "text/plain": [
       "   Phone Number    Call Outcome   Agent  Call Number          Name  \\\n",
       "0    6412714192  NOT INTERESTED   black            0  Autumn DAVIS   \n",
       "1    2878259249  ANSWER MACHINE     red            1  Henry MILLER   \n",
       "2    5762800010      INTERESTED     red            2   Liddie CHEN   \n",
       "3    9742942608  ANSWER MACHINE  orange            3     Alyson YU   \n",
       "4    5053320104      INTERESTED  orange            4   Ariel CAREY   \n",
       "\n",
       "       Region         Sector  Age  \n",
       "0       south  entertainment   48  \n",
       "1       wales         retail   59  \n",
       "2  south-west         retail   21  \n",
       "3  north-west      wholesale   72  \n",
       "4  north-west   construction   35  "
      ]
     },
     "execution_count": 18,
     "metadata": {},
     "output_type": "execute_result"
    }
   ],
   "source": [
    "data_interim.head()"
   ]
  },
  {
   "cell_type": "code",
   "execution_count": 19,
   "metadata": {},
   "outputs": [],
   "source": [
    "# Before the second merge, we'll change the name of the Name column to Lead for joining purposes.\n",
    "\n",
    "data_interim = data_interim.rename({'Name':'Lead'}, axis='columns')"
   ]
  },
  {
   "cell_type": "code",
   "execution_count": 20,
   "metadata": {},
   "outputs": [
    {
     "data": {
      "text/html": [
       "<div>\n",
       "<style scoped>\n",
       "    .dataframe tbody tr th:only-of-type {\n",
       "        vertical-align: middle;\n",
       "    }\n",
       "\n",
       "    .dataframe tbody tr th {\n",
       "        vertical-align: top;\n",
       "    }\n",
       "\n",
       "    .dataframe thead th {\n",
       "        text-align: right;\n",
       "    }\n",
       "</style>\n",
       "<table border=\"1\" class=\"dataframe\">\n",
       "  <thead>\n",
       "    <tr style=\"text-align: right;\">\n",
       "      <th></th>\n",
       "      <th>Phone Number</th>\n",
       "      <th>Call Outcome</th>\n",
       "      <th>Agent</th>\n",
       "      <th>Call Number</th>\n",
       "      <th>Lead</th>\n",
       "      <th>Region</th>\n",
       "      <th>Sector</th>\n",
       "      <th>Age</th>\n",
       "    </tr>\n",
       "  </thead>\n",
       "  <tbody>\n",
       "    <tr>\n",
       "      <th>0</th>\n",
       "      <td>6412714192</td>\n",
       "      <td>NOT INTERESTED</td>\n",
       "      <td>black</td>\n",
       "      <td>0</td>\n",
       "      <td>Autumn DAVIS</td>\n",
       "      <td>south</td>\n",
       "      <td>entertainment</td>\n",
       "      <td>48</td>\n",
       "    </tr>\n",
       "    <tr>\n",
       "      <th>1</th>\n",
       "      <td>2878259249</td>\n",
       "      <td>ANSWER MACHINE</td>\n",
       "      <td>red</td>\n",
       "      <td>1</td>\n",
       "      <td>Henry MILLER</td>\n",
       "      <td>wales</td>\n",
       "      <td>retail</td>\n",
       "      <td>59</td>\n",
       "    </tr>\n",
       "    <tr>\n",
       "      <th>2</th>\n",
       "      <td>5762800010</td>\n",
       "      <td>INTERESTED</td>\n",
       "      <td>red</td>\n",
       "      <td>2</td>\n",
       "      <td>Liddie CHEN</td>\n",
       "      <td>south-west</td>\n",
       "      <td>retail</td>\n",
       "      <td>21</td>\n",
       "    </tr>\n",
       "    <tr>\n",
       "      <th>3</th>\n",
       "      <td>9742942608</td>\n",
       "      <td>ANSWER MACHINE</td>\n",
       "      <td>orange</td>\n",
       "      <td>3</td>\n",
       "      <td>Alyson YU</td>\n",
       "      <td>north-west</td>\n",
       "      <td>wholesale</td>\n",
       "      <td>72</td>\n",
       "    </tr>\n",
       "    <tr>\n",
       "      <th>4</th>\n",
       "      <td>5053320104</td>\n",
       "      <td>INTERESTED</td>\n",
       "      <td>orange</td>\n",
       "      <td>4</td>\n",
       "      <td>Ariel CAREY</td>\n",
       "      <td>north-west</td>\n",
       "      <td>construction</td>\n",
       "      <td>35</td>\n",
       "    </tr>\n",
       "  </tbody>\n",
       "</table>\n",
       "</div>"
      ],
      "text/plain": [
       "   Phone Number    Call Outcome   Agent  Call Number          Lead  \\\n",
       "0    6412714192  NOT INTERESTED   black            0  Autumn DAVIS   \n",
       "1    2878259249  ANSWER MACHINE     red            1  Henry MILLER   \n",
       "2    5762800010      INTERESTED     red            2   Liddie CHEN   \n",
       "3    9742942608  ANSWER MACHINE  orange            3     Alyson YU   \n",
       "4    5053320104      INTERESTED  orange            4   Ariel CAREY   \n",
       "\n",
       "       Region         Sector  Age  \n",
       "0       south  entertainment   48  \n",
       "1       wales         retail   59  \n",
       "2  south-west         retail   21  \n",
       "3  north-west      wholesale   72  \n",
       "4  north-west   construction   35  "
      ]
     },
     "execution_count": 20,
     "metadata": {},
     "output_type": "execute_result"
    }
   ],
   "source": [
    "data_interim.head()"
   ]
  },
  {
   "cell_type": "code",
   "execution_count": 21,
   "metadata": {},
   "outputs": [],
   "source": [
    "# Second merge\n",
    "\n",
    "data_merged = data_interim.merge(signups_data, how = 'left', on ='Lead') "
   ]
  },
  {
   "cell_type": "code",
   "execution_count": 22,
   "metadata": {},
   "outputs": [
    {
     "data": {
      "text/html": [
       "<div>\n",
       "<style scoped>\n",
       "    .dataframe tbody tr th:only-of-type {\n",
       "        vertical-align: middle;\n",
       "    }\n",
       "\n",
       "    .dataframe tbody tr th {\n",
       "        vertical-align: top;\n",
       "    }\n",
       "\n",
       "    .dataframe thead th {\n",
       "        text-align: right;\n",
       "    }\n",
       "</style>\n",
       "<table border=\"1\" class=\"dataframe\">\n",
       "  <thead>\n",
       "    <tr style=\"text-align: right;\">\n",
       "      <th></th>\n",
       "      <th>Phone Number</th>\n",
       "      <th>Call Outcome</th>\n",
       "      <th>Agent</th>\n",
       "      <th>Call Number</th>\n",
       "      <th>Lead</th>\n",
       "      <th>Region</th>\n",
       "      <th>Sector</th>\n",
       "      <th>Age</th>\n",
       "      <th>Approval Decision</th>\n",
       "    </tr>\n",
       "  </thead>\n",
       "  <tbody>\n",
       "    <tr>\n",
       "      <th>0</th>\n",
       "      <td>6412714192</td>\n",
       "      <td>NOT INTERESTED</td>\n",
       "      <td>black</td>\n",
       "      <td>0</td>\n",
       "      <td>Autumn DAVIS</td>\n",
       "      <td>south</td>\n",
       "      <td>entertainment</td>\n",
       "      <td>48</td>\n",
       "      <td>NaN</td>\n",
       "    </tr>\n",
       "    <tr>\n",
       "      <th>1</th>\n",
       "      <td>2878259249</td>\n",
       "      <td>ANSWER MACHINE</td>\n",
       "      <td>red</td>\n",
       "      <td>1</td>\n",
       "      <td>Henry MILLER</td>\n",
       "      <td>wales</td>\n",
       "      <td>retail</td>\n",
       "      <td>59</td>\n",
       "      <td>NaN</td>\n",
       "    </tr>\n",
       "    <tr>\n",
       "      <th>2</th>\n",
       "      <td>5762800010</td>\n",
       "      <td>INTERESTED</td>\n",
       "      <td>red</td>\n",
       "      <td>2</td>\n",
       "      <td>Liddie CHEN</td>\n",
       "      <td>south-west</td>\n",
       "      <td>retail</td>\n",
       "      <td>21</td>\n",
       "      <td>APPROVED</td>\n",
       "    </tr>\n",
       "    <tr>\n",
       "      <th>3</th>\n",
       "      <td>9742942608</td>\n",
       "      <td>ANSWER MACHINE</td>\n",
       "      <td>orange</td>\n",
       "      <td>3</td>\n",
       "      <td>Alyson YU</td>\n",
       "      <td>north-west</td>\n",
       "      <td>wholesale</td>\n",
       "      <td>72</td>\n",
       "      <td>NaN</td>\n",
       "    </tr>\n",
       "    <tr>\n",
       "      <th>4</th>\n",
       "      <td>5053320104</td>\n",
       "      <td>INTERESTED</td>\n",
       "      <td>orange</td>\n",
       "      <td>4</td>\n",
       "      <td>Ariel CAREY</td>\n",
       "      <td>north-west</td>\n",
       "      <td>construction</td>\n",
       "      <td>35</td>\n",
       "      <td>REJECTED</td>\n",
       "    </tr>\n",
       "  </tbody>\n",
       "</table>\n",
       "</div>"
      ],
      "text/plain": [
       "   Phone Number    Call Outcome   Agent  Call Number          Lead  \\\n",
       "0    6412714192  NOT INTERESTED   black            0  Autumn DAVIS   \n",
       "1    2878259249  ANSWER MACHINE     red            1  Henry MILLER   \n",
       "2    5762800010      INTERESTED     red            2   Liddie CHEN   \n",
       "3    9742942608  ANSWER MACHINE  orange            3     Alyson YU   \n",
       "4    5053320104      INTERESTED  orange            4   Ariel CAREY   \n",
       "\n",
       "       Region         Sector  Age Approval Decision  \n",
       "0       south  entertainment   48               NaN  \n",
       "1       wales         retail   59               NaN  \n",
       "2  south-west         retail   21          APPROVED  \n",
       "3  north-west      wholesale   72               NaN  \n",
       "4  north-west   construction   35          REJECTED  "
      ]
     },
     "execution_count": 22,
     "metadata": {},
     "output_type": "execute_result"
    }
   ],
   "source": [
    "data_merged.head()"
   ]
  },
  {
   "cell_type": "code",
   "execution_count": 23,
   "metadata": {},
   "outputs": [
    {
     "name": "stdout",
     "output_type": "stream",
     "text": [
      "<class 'pandas.core.frame.DataFrame'>\n",
      "Int64Index: 10000 entries, 0 to 9999\n",
      "Data columns (total 9 columns):\n",
      "Phone Number         10000 non-null int64\n",
      "Call Outcome         10000 non-null object\n",
      "Agent                10000 non-null object\n",
      "Call Number          10000 non-null int64\n",
      "Lead                 10000 non-null object\n",
      "Region               10000 non-null object\n",
      "Sector               10000 non-null object\n",
      "Age                  10000 non-null int64\n",
      "Approval Decision    3348 non-null object\n",
      "dtypes: int64(3), object(6)\n",
      "memory usage: 781.2+ KB\n"
     ]
    }
   ],
   "source": [
    "# Understanding the type of data in each column in the merged dataset\n",
    "\n",
    "data_merged.info()"
   ]
  },
  {
   "cell_type": "code",
   "execution_count": 24,
   "metadata": {},
   "outputs": [
    {
     "data": {
      "text/plain": [
       "<matplotlib.axes._subplots.AxesSubplot at 0xc72aa20>"
      ]
     },
     "execution_count": 24,
     "metadata": {},
     "output_type": "execute_result"
    },
    {
     "data": {
      "image/png": "[encoded data removed]",
      "text/plain": [
       "<Figure size 1080x720 with 1 Axes>"
      ]
     },
     "metadata": {
      "needs_background": "light"
     },
     "output_type": "display_data"
    }
   ],
   "source": [
    "# Checking for presence of null values in each columns, where purple = data and yellow = NULL\n",
    "\n",
    "fig, ax = plt.subplots(figsize = (15,10))\n",
    "sns.heatmap(data_merged.isnull(), yticklabels=False, cbar=False, cmap='viridis')"
   ]
  },
  {
   "cell_type": "markdown",
   "metadata": {},
   "source": [
    "*Interpretation*: All data fields are filled except for the 'Approval Decision' category, which mostly contains null values. Essentially, this means that some leads that were contacted never signed up. "
   ]
  },
  {
   "cell_type": "markdown",
   "metadata": {},
   "source": [
    "# Part 2: Metrics"
   ]
  },
  {
   "cell_type": "markdown",
   "metadata": {},
   "source": [
    "## Basics"
   ]
  },
  {
   "cell_type": "markdown",
   "metadata": {},
   "source": [
    "**Calls per agent**\n",
    "\n",
    "Let's start from the basics: how many calls did each agent make in the call center? We can use this to measure their success of signups by using the number of calls for normalization. "
   ]
  },
  {
   "cell_type": "code",
   "execution_count": 25,
   "metadata": {},
   "outputs": [],
   "source": [
    "# Renaming the Phone Number column for syntax processing purposes\n",
    "\n",
    "data_merged = data_merged.rename({'Phone Number':'phone_number'}, axis='columns')"
   ]
  },
  {
   "cell_type": "code",
   "execution_count": 26,
   "metadata": {},
   "outputs": [],
   "source": [
    "# Getting the number of calls per agent\n",
    "\n",
    "calls_per_agent = data_merged.groupby('Agent').phone_number.count()"
   ]
  },
  {
   "cell_type": "code",
   "execution_count": 27,
   "metadata": {},
   "outputs": [
    {
     "data": {
      "text/plain": [
       "Agent\n",
       "black     1470\n",
       "blue       366\n",
       "green      763\n",
       "orange    4406\n",
       "red       2995\n",
       "Name: phone_number, dtype: int64"
      ]
     },
     "execution_count": 27,
     "metadata": {},
     "output_type": "execute_result"
    }
   ],
   "source": [
    "calls_per_agent"
   ]
  },
  {
   "cell_type": "markdown",
   "metadata": {},
   "source": [
    "The numbers above represent the number of calls for each agent. We can see that agent *orange* had the highest number of calls, while agent *blue* had the lowest number of calls. "
   ]
  },
  {
   "cell_type": "markdown",
   "metadata": {},
   "source": [
    "**Signups per agent**\n",
    "\n",
    "Now, let's take a look how many signups each agent had. The tricky part here is that there is always a possibility of one lead having been contacted by multiple agents. For purposes of this analysis, we will assign a successful signup to the last agent that made the call to a lead. "
   ]
  },
  {
   "cell_type": "code",
   "execution_count": 28,
   "metadata": {},
   "outputs": [
    {
     "data": {
      "text/plain": [
       "10000"
      ]
     },
     "execution_count": 28,
     "metadata": {},
     "output_type": "execute_result"
    }
   ],
   "source": [
    "# Let's see how many entries we have in the data_interim dataset before removing duplicates: all calls for a lead\n",
    "# before the last one. \n",
    "\n",
    "len(data_interim)"
   ]
  },
  {
   "cell_type": "code",
   "execution_count": 29,
   "metadata": {},
   "outputs": [],
   "source": [
    "# We will first remove duplicate leads from the data_interim dataset, keeping only the last occurrences of a lead call.\n",
    "# We keep the last occurrence so that we can identify the last agent that contacted the lead. \n",
    "\n",
    "data_interim_cleaned = data_interim.drop_duplicates('Lead', keep = 'last')"
   ]
  },
  {
   "cell_type": "code",
   "execution_count": 30,
   "metadata": {},
   "outputs": [
    {
     "data": {
      "text/html": [
       "<div>\n",
       "<style scoped>\n",
       "    .dataframe tbody tr th:only-of-type {\n",
       "        vertical-align: middle;\n",
       "    }\n",
       "\n",
       "    .dataframe tbody tr th {\n",
       "        vertical-align: top;\n",
       "    }\n",
       "\n",
       "    .dataframe thead th {\n",
       "        text-align: right;\n",
       "    }\n",
       "</style>\n",
       "<table border=\"1\" class=\"dataframe\">\n",
       "  <thead>\n",
       "    <tr style=\"text-align: right;\">\n",
       "      <th></th>\n",
       "      <th>Phone Number</th>\n",
       "      <th>Call Outcome</th>\n",
       "      <th>Agent</th>\n",
       "      <th>Call Number</th>\n",
       "      <th>Lead</th>\n",
       "      <th>Region</th>\n",
       "      <th>Sector</th>\n",
       "      <th>Age</th>\n",
       "    </tr>\n",
       "  </thead>\n",
       "  <tbody>\n",
       "    <tr>\n",
       "      <th>0</th>\n",
       "      <td>6412714192</td>\n",
       "      <td>NOT INTERESTED</td>\n",
       "      <td>black</td>\n",
       "      <td>0</td>\n",
       "      <td>Autumn DAVIS</td>\n",
       "      <td>south</td>\n",
       "      <td>entertainment</td>\n",
       "      <td>48</td>\n",
       "    </tr>\n",
       "    <tr>\n",
       "      <th>2</th>\n",
       "      <td>5762800010</td>\n",
       "      <td>INTERESTED</td>\n",
       "      <td>red</td>\n",
       "      <td>2</td>\n",
       "      <td>Liddie CHEN</td>\n",
       "      <td>south-west</td>\n",
       "      <td>retail</td>\n",
       "      <td>21</td>\n",
       "    </tr>\n",
       "    <tr>\n",
       "      <th>4</th>\n",
       "      <td>5053320104</td>\n",
       "      <td>INTERESTED</td>\n",
       "      <td>orange</td>\n",
       "      <td>4</td>\n",
       "      <td>Ariel CAREY</td>\n",
       "      <td>north-west</td>\n",
       "      <td>construction</td>\n",
       "      <td>35</td>\n",
       "    </tr>\n",
       "    <tr>\n",
       "      <th>7</th>\n",
       "      <td>2880720829</td>\n",
       "      <td>NOT INTERESTED</td>\n",
       "      <td>red</td>\n",
       "      <td>7</td>\n",
       "      <td>Mabel ASHLEY</td>\n",
       "      <td>south</td>\n",
       "      <td>retail</td>\n",
       "      <td>20</td>\n",
       "    </tr>\n",
       "    <tr>\n",
       "      <th>8</th>\n",
       "      <td>5940892214</td>\n",
       "      <td>NOT INTERESTED</td>\n",
       "      <td>black</td>\n",
       "      <td>8</td>\n",
       "      <td>Yareli WALTON</td>\n",
       "      <td>midlands</td>\n",
       "      <td>retail</td>\n",
       "      <td>25</td>\n",
       "    </tr>\n",
       "  </tbody>\n",
       "</table>\n",
       "</div>"
      ],
      "text/plain": [
       "   Phone Number    Call Outcome   Agent  Call Number           Lead  \\\n",
       "0    6412714192  NOT INTERESTED   black            0   Autumn DAVIS   \n",
       "2    5762800010      INTERESTED     red            2    Liddie CHEN   \n",
       "4    5053320104      INTERESTED  orange            4    Ariel CAREY   \n",
       "7    2880720829  NOT INTERESTED     red            7   Mabel ASHLEY   \n",
       "8    5940892214  NOT INTERESTED   black            8  Yareli WALTON   \n",
       "\n",
       "       Region         Sector  Age  \n",
       "0       south  entertainment   48  \n",
       "2  south-west         retail   21  \n",
       "4  north-west   construction   35  \n",
       "7       south         retail   20  \n",
       "8    midlands         retail   25  "
      ]
     },
     "execution_count": 30,
     "metadata": {},
     "output_type": "execute_result"
    }
   ],
   "source": [
    "data_interim_cleaned.head()"
   ]
  },
  {
   "cell_type": "code",
   "execution_count": 31,
   "metadata": {},
   "outputs": [
    {
     "name": "stdout",
     "output_type": "stream",
     "text": [
      "<class 'pandas.core.frame.DataFrame'>\n",
      "Int64Index: 5166 entries, 0 to 9999\n",
      "Data columns (total 8 columns):\n",
      "Phone Number    5166 non-null int64\n",
      "Call Outcome    5166 non-null object\n",
      "Agent           5166 non-null object\n",
      "Call Number     5166 non-null int64\n",
      "Lead            5166 non-null object\n",
      "Region          5166 non-null object\n",
      "Sector          5166 non-null object\n",
      "Age             5166 non-null int64\n",
      "dtypes: int64(3), object(5)\n",
      "memory usage: 363.2+ KB\n"
     ]
    }
   ],
   "source": [
    "data_interim_cleaned.info()"
   ]
  },
  {
   "cell_type": "code",
   "execution_count": 32,
   "metadata": {},
   "outputs": [
    {
     "data": {
      "text/plain": [
       "5166"
      ]
     },
     "execution_count": 32,
     "metadata": {},
     "output_type": "execute_result"
    }
   ],
   "source": [
    "# Let's check the length of the entire cleaned dataset.\n",
    "\n",
    "len(data_interim_cleaned)"
   ]
  },
  {
   "cell_type": "code",
   "execution_count": 33,
   "metadata": {},
   "outputs": [
    {
     "data": {
      "text/plain": [
       "5166"
      ]
     },
     "execution_count": 33,
     "metadata": {},
     "output_type": "execute_result"
    }
   ],
   "source": [
    "# Let's check how many unique leads we have in the cleaned dataset.\n",
    "\n",
    "len(data_interim_cleaned['Lead'].unique())"
   ]
  },
  {
   "cell_type": "markdown",
   "metadata": {},
   "source": [
    "The length of the cleaned dataset is equal to the length of unique lead names, which means the cleanup process was successful and we have identified unique last occurrences of an agent call for each lead. "
   ]
  },
  {
   "cell_type": "code",
   "execution_count": 34,
   "metadata": {},
   "outputs": [],
   "source": [
    "# Now, we will do an inner join on the signups dataset to expand information for each signup. \n",
    "\n",
    "expanded_signups = signups_data.merge(data_interim_cleaned, how = 'inner', on = 'Lead')"
   ]
  },
  {
   "cell_type": "code",
   "execution_count": 35,
   "metadata": {},
   "outputs": [
    {
     "data": {
      "text/html": [
       "<div>\n",
       "<style scoped>\n",
       "    .dataframe tbody tr th:only-of-type {\n",
       "        vertical-align: middle;\n",
       "    }\n",
       "\n",
       "    .dataframe tbody tr th {\n",
       "        vertical-align: top;\n",
       "    }\n",
       "\n",
       "    .dataframe thead th {\n",
       "        text-align: right;\n",
       "    }\n",
       "</style>\n",
       "<table border=\"1\" class=\"dataframe\">\n",
       "  <thead>\n",
       "    <tr style=\"text-align: right;\">\n",
       "      <th></th>\n",
       "      <th>Lead</th>\n",
       "      <th>Approval Decision</th>\n",
       "      <th>Phone Number</th>\n",
       "      <th>Call Outcome</th>\n",
       "      <th>Agent</th>\n",
       "      <th>Call Number</th>\n",
       "      <th>Region</th>\n",
       "      <th>Sector</th>\n",
       "      <th>Age</th>\n",
       "    </tr>\n",
       "  </thead>\n",
       "  <tbody>\n",
       "    <tr>\n",
       "      <th>0</th>\n",
       "      <td>Liddie CHEN</td>\n",
       "      <td>APPROVED</td>\n",
       "      <td>5762800010</td>\n",
       "      <td>INTERESTED</td>\n",
       "      <td>red</td>\n",
       "      <td>2</td>\n",
       "      <td>south-west</td>\n",
       "      <td>retail</td>\n",
       "      <td>21</td>\n",
       "    </tr>\n",
       "    <tr>\n",
       "      <th>1</th>\n",
       "      <td>Ariel CAREY</td>\n",
       "      <td>REJECTED</td>\n",
       "      <td>5053320104</td>\n",
       "      <td>INTERESTED</td>\n",
       "      <td>orange</td>\n",
       "      <td>4</td>\n",
       "      <td>north-west</td>\n",
       "      <td>construction</td>\n",
       "      <td>35</td>\n",
       "    </tr>\n",
       "    <tr>\n",
       "      <th>2</th>\n",
       "      <td>Rylie WALSH</td>\n",
       "      <td>APPROVED</td>\n",
       "      <td>9968931392</td>\n",
       "      <td>INTERESTED</td>\n",
       "      <td>green</td>\n",
       "      <td>29</td>\n",
       "      <td>north-west</td>\n",
       "      <td>retail</td>\n",
       "      <td>21</td>\n",
       "    </tr>\n",
       "    <tr>\n",
       "      <th>3</th>\n",
       "      <td>Aurelia RODRIGUEZ</td>\n",
       "      <td>REJECTED</td>\n",
       "      <td>1905656511</td>\n",
       "      <td>INTERESTED</td>\n",
       "      <td>red</td>\n",
       "      <td>30</td>\n",
       "      <td>south-east</td>\n",
       "      <td>consultancy</td>\n",
       "      <td>31</td>\n",
       "    </tr>\n",
       "    <tr>\n",
       "      <th>4</th>\n",
       "      <td>Jaycee GOLDEN</td>\n",
       "      <td>APPROVED</td>\n",
       "      <td>6109626331</td>\n",
       "      <td>INTERESTED</td>\n",
       "      <td>black</td>\n",
       "      <td>4419</td>\n",
       "      <td>scotland</td>\n",
       "      <td>wholesale</td>\n",
       "      <td>42</td>\n",
       "    </tr>\n",
       "  </tbody>\n",
       "</table>\n",
       "</div>"
      ],
      "text/plain": [
       "                Lead Approval Decision  Phone Number Call Outcome   Agent  \\\n",
       "0        Liddie CHEN          APPROVED    5762800010   INTERESTED     red   \n",
       "1        Ariel CAREY          REJECTED    5053320104   INTERESTED  orange   \n",
       "2        Rylie WALSH          APPROVED    9968931392   INTERESTED   green   \n",
       "3  Aurelia RODRIGUEZ          REJECTED    1905656511   INTERESTED     red   \n",
       "4      Jaycee GOLDEN          APPROVED    6109626331   INTERESTED   black   \n",
       "\n",
       "   Call Number      Region        Sector  Age  \n",
       "0            2  south-west        retail   21  \n",
       "1            4  north-west  construction   35  \n",
       "2           29  north-west        retail   21  \n",
       "3           30  south-east   consultancy   31  \n",
       "4         4419    scotland     wholesale   42  "
      ]
     },
     "execution_count": 35,
     "metadata": {},
     "output_type": "execute_result"
    }
   ],
   "source": [
    "expanded_signups.head()"
   ]
  },
  {
   "cell_type": "code",
   "execution_count": 36,
   "metadata": {},
   "outputs": [
    {
     "name": "stdout",
     "output_type": "stream",
     "text": [
      "<class 'pandas.core.frame.DataFrame'>\n",
      "Int64Index: 1506 entries, 0 to 1505\n",
      "Data columns (total 9 columns):\n",
      "Lead                 1506 non-null object\n",
      "Approval Decision    1506 non-null object\n",
      "Phone Number         1506 non-null int64\n",
      "Call Outcome         1506 non-null object\n",
      "Agent                1506 non-null object\n",
      "Call Number          1506 non-null int64\n",
      "Region               1506 non-null object\n",
      "Sector               1506 non-null object\n",
      "Age                  1506 non-null int64\n",
      "dtypes: int64(3), object(6)\n",
      "memory usage: 117.7+ KB\n"
     ]
    }
   ],
   "source": [
    "expanded_signups.info()"
   ]
  },
  {
   "cell_type": "markdown",
   "metadata": {},
   "source": [
    "We can see that we have 1,506 entries, which is equal to the actual number of total signups. This means the merging was correct. "
   ]
  },
  {
   "cell_type": "code",
   "execution_count": 37,
   "metadata": {},
   "outputs": [],
   "source": [
    "# Renaming the Approval Decision column for syntax processing purposes\n",
    "\n",
    "expanded_signups = expanded_signups.rename({'Approval Decision':'approval_decision'}, axis='columns')"
   ]
  },
  {
   "cell_type": "code",
   "execution_count": 38,
   "metadata": {},
   "outputs": [],
   "source": [
    "# We can now count the number of signups per each agent (by counting entries in the Lead column) because every\n",
    "# lead is assigned a unique agent after removing duplicates and merging the cleaned data_interim dataset. \n",
    "\n",
    "signups_per_agent = expanded_signups.groupby('Agent').Lead.count()"
   ]
  },
  {
   "cell_type": "code",
   "execution_count": 39,
   "metadata": {},
   "outputs": [
    {
     "data": {
      "text/plain": [
       "Agent\n",
       "black     106\n",
       "blue       95\n",
       "green     134\n",
       "orange    594\n",
       "red       577\n",
       "Name: Lead, dtype: int64"
      ]
     },
     "execution_count": 39,
     "metadata": {},
     "output_type": "execute_result"
    }
   ],
   "source": [
    "signups_per_agent"
   ]
  },
  {
   "cell_type": "markdown",
   "metadata": {},
   "source": [
    "The numbers above show the number of signups for each agent. Agent *red* had the highest number of signups, while agent *blue* had the lowest. Now, we need to normalize this metric using the total number of calls and see how agents compare in terms of number of signups per call.  "
   ]
  },
  {
   "cell_type": "markdown",
   "metadata": {},
   "source": [
    "**Normalization: Signups per call**"
   ]
  },
  {
   "cell_type": "code",
   "execution_count": 40,
   "metadata": {},
   "outputs": [],
   "source": [
    "# To extract these numbers, we will implement the formula:\n",
    "\n",
    "# signups_per_call_per_agent = (signups_per_agent) / (calls_per_agent)\n",
    "\n",
    "from __future__ import division"
   ]
  },
  {
   "cell_type": "code",
   "execution_count": 41,
   "metadata": {},
   "outputs": [],
   "source": [
    "# Implementing the fomula\n",
    "\n",
    "signups_per_call_per_agent = signups_per_agent / calls_per_agent"
   ]
  },
  {
   "cell_type": "code",
   "execution_count": 42,
   "metadata": {},
   "outputs": [
    {
     "data": {
      "text/plain": [
       "Agent\n",
       "black     0.072109\n",
       "blue      0.259563\n",
       "green     0.175623\n",
       "orange    0.134816\n",
       "red       0.192654\n",
       "dtype: float64"
      ]
     },
     "execution_count": 42,
     "metadata": {},
     "output_type": "execute_result"
    }
   ],
   "source": [
    "signups_per_call_per_agent"
   ]
  },
  {
   "cell_type": "markdown",
   "metadata": {},
   "source": [
    "We can see that agent *blue* had the highest number of signups per call: approximately 0.26 (which we can interpret as a 26% conversion rate), while agent *black* had the lowest number of signups per call (7.2% conversion rate). "
   ]
  },
  {
   "cell_type": "markdown",
   "metadata": {},
   "source": [
    "## Statistics on leads and signups "
   ]
  },
  {
   "cell_type": "markdown",
   "metadata": {},
   "source": [
    "### **Number of calls necessary to get a lead interested**\n",
    "\n",
    "One question we could ask is: how many calls on average did an agent make to get a lead interested? \n",
    "\n",
    "In this part, I will first identify all the leads that said they were interested at some point. I will then find those leads and all their associated calls. After that, I will trace the number of calls until the one that got the lead interested and calculate these basic descriptive statisical measures. A crucial assumption here is that 'Interested' is always the last stage in the process; that is, I will assume that, once a lead expresses an interest, the agents do not make any additional calls, leading to people potentially losing interest."
   ]
  },
  {
   "cell_type": "code",
   "execution_count": 43,
   "metadata": {},
   "outputs": [],
   "source": [
    "# We will first extract a temporary dataset of only interested leads:\n",
    "\n",
    "interested = data_merged[data_merged['Call Outcome'] == 'INTERESTED']"
   ]
  },
  {
   "cell_type": "code",
   "execution_count": 44,
   "metadata": {},
   "outputs": [
    {
     "data": {
      "text/html": [
       "<div>\n",
       "<style scoped>\n",
       "    .dataframe tbody tr th:only-of-type {\n",
       "        vertical-align: middle;\n",
       "    }\n",
       "\n",
       "    .dataframe tbody tr th {\n",
       "        vertical-align: top;\n",
       "    }\n",
       "\n",
       "    .dataframe thead th {\n",
       "        text-align: right;\n",
       "    }\n",
       "</style>\n",
       "<table border=\"1\" class=\"dataframe\">\n",
       "  <thead>\n",
       "    <tr style=\"text-align: right;\">\n",
       "      <th></th>\n",
       "      <th>phone_number</th>\n",
       "      <th>Call Outcome</th>\n",
       "      <th>Agent</th>\n",
       "      <th>Call Number</th>\n",
       "      <th>Lead</th>\n",
       "      <th>Region</th>\n",
       "      <th>Sector</th>\n",
       "      <th>Age</th>\n",
       "      <th>Approval Decision</th>\n",
       "    </tr>\n",
       "  </thead>\n",
       "  <tbody>\n",
       "    <tr>\n",
       "      <th>2</th>\n",
       "      <td>5762800010</td>\n",
       "      <td>INTERESTED</td>\n",
       "      <td>red</td>\n",
       "      <td>2</td>\n",
       "      <td>Liddie CHEN</td>\n",
       "      <td>south-west</td>\n",
       "      <td>retail</td>\n",
       "      <td>21</td>\n",
       "      <td>APPROVED</td>\n",
       "    </tr>\n",
       "    <tr>\n",
       "      <th>4</th>\n",
       "      <td>5053320104</td>\n",
       "      <td>INTERESTED</td>\n",
       "      <td>orange</td>\n",
       "      <td>4</td>\n",
       "      <td>Ariel CAREY</td>\n",
       "      <td>north-west</td>\n",
       "      <td>construction</td>\n",
       "      <td>35</td>\n",
       "      <td>REJECTED</td>\n",
       "    </tr>\n",
       "    <tr>\n",
       "      <th>6</th>\n",
       "      <td>5917627210</td>\n",
       "      <td>INTERESTED</td>\n",
       "      <td>red</td>\n",
       "      <td>6</td>\n",
       "      <td>Cody MASSEY</td>\n",
       "      <td>south-east</td>\n",
       "      <td>food</td>\n",
       "      <td>25</td>\n",
       "      <td>APPROVED</td>\n",
       "    </tr>\n",
       "    <tr>\n",
       "      <th>29</th>\n",
       "      <td>9968931392</td>\n",
       "      <td>INTERESTED</td>\n",
       "      <td>green</td>\n",
       "      <td>29</td>\n",
       "      <td>Rylie WALSH</td>\n",
       "      <td>north-west</td>\n",
       "      <td>retail</td>\n",
       "      <td>21</td>\n",
       "      <td>APPROVED</td>\n",
       "    </tr>\n",
       "    <tr>\n",
       "      <th>30</th>\n",
       "      <td>1905656511</td>\n",
       "      <td>INTERESTED</td>\n",
       "      <td>red</td>\n",
       "      <td>30</td>\n",
       "      <td>Aurelia RODRIGUEZ</td>\n",
       "      <td>south-east</td>\n",
       "      <td>consultancy</td>\n",
       "      <td>31</td>\n",
       "      <td>REJECTED</td>\n",
       "    </tr>\n",
       "  </tbody>\n",
       "</table>\n",
       "</div>"
      ],
      "text/plain": [
       "    phone_number Call Outcome   Agent  Call Number               Lead  \\\n",
       "2     5762800010   INTERESTED     red            2        Liddie CHEN   \n",
       "4     5053320104   INTERESTED  orange            4        Ariel CAREY   \n",
       "6     5917627210   INTERESTED     red            6        Cody MASSEY   \n",
       "29    9968931392   INTERESTED   green           29        Rylie WALSH   \n",
       "30    1905656511   INTERESTED     red           30  Aurelia RODRIGUEZ   \n",
       "\n",
       "        Region        Sector  Age Approval Decision  \n",
       "2   south-west        retail   21          APPROVED  \n",
       "4   north-west  construction   35          REJECTED  \n",
       "6   south-east          food   25          APPROVED  \n",
       "29  north-west        retail   21          APPROVED  \n",
       "30  south-east   consultancy   31          REJECTED  "
      ]
     },
     "execution_count": 44,
     "metadata": {},
     "output_type": "execute_result"
    }
   ],
   "source": [
    "interested.head()"
   ]
  },
  {
   "cell_type": "code",
   "execution_count": 45,
   "metadata": {},
   "outputs": [
    {
     "data": {
      "text/plain": [
       "2457"
      ]
     },
     "execution_count": 45,
     "metadata": {},
     "output_type": "execute_result"
    }
   ],
   "source": [
    "# Number of unique interested leads\n",
    "\n",
    "len(interested['Lead'].unique())"
   ]
  },
  {
   "cell_type": "markdown",
   "metadata": {},
   "source": [
    "2457 unique leads expressed interested."
   ]
  },
  {
   "cell_type": "code",
   "execution_count": 46,
   "metadata": {},
   "outputs": [],
   "source": [
    "# Renaming the Call Outcome column for syntax processing purposes\n",
    "\n",
    "data_merged = data_merged.rename({'Call Outcome':'call_outcome'}, axis='columns')"
   ]
  },
  {
   "cell_type": "code",
   "execution_count": 47,
   "metadata": {},
   "outputs": [],
   "source": [
    "# Now let's check calls for these leads that had other categories other than Interested \n",
    "# therefore showing us how many other calls happened for that lead before they were interested.\n",
    "\n",
    "# First, let's retrace all the leads that were interested along with their other outcomes instead of just Interested.\n",
    "\n",
    "before = data_merged[data_merged.Lead.isin(interested['Lead'])]"
   ]
  },
  {
   "cell_type": "code",
   "execution_count": 48,
   "metadata": {},
   "outputs": [
    {
     "data": {
      "text/html": [
       "<div>\n",
       "<style scoped>\n",
       "    .dataframe tbody tr th:only-of-type {\n",
       "        vertical-align: middle;\n",
       "    }\n",
       "\n",
       "    .dataframe tbody tr th {\n",
       "        vertical-align: top;\n",
       "    }\n",
       "\n",
       "    .dataframe thead th {\n",
       "        text-align: right;\n",
       "    }\n",
       "</style>\n",
       "<table border=\"1\" class=\"dataframe\">\n",
       "  <thead>\n",
       "    <tr style=\"text-align: right;\">\n",
       "      <th></th>\n",
       "      <th>phone_number</th>\n",
       "      <th>call_outcome</th>\n",
       "      <th>Agent</th>\n",
       "      <th>Call Number</th>\n",
       "      <th>Lead</th>\n",
       "      <th>Region</th>\n",
       "      <th>Sector</th>\n",
       "      <th>Age</th>\n",
       "      <th>Approval Decision</th>\n",
       "    </tr>\n",
       "  </thead>\n",
       "  <tbody>\n",
       "    <tr>\n",
       "      <th>1</th>\n",
       "      <td>2878259249</td>\n",
       "      <td>ANSWER MACHINE</td>\n",
       "      <td>red</td>\n",
       "      <td>1</td>\n",
       "      <td>Henry MILLER</td>\n",
       "      <td>wales</td>\n",
       "      <td>retail</td>\n",
       "      <td>59</td>\n",
       "      <td>NaN</td>\n",
       "    </tr>\n",
       "    <tr>\n",
       "      <th>2</th>\n",
       "      <td>5762800010</td>\n",
       "      <td>INTERESTED</td>\n",
       "      <td>red</td>\n",
       "      <td>2</td>\n",
       "      <td>Liddie CHEN</td>\n",
       "      <td>south-west</td>\n",
       "      <td>retail</td>\n",
       "      <td>21</td>\n",
       "      <td>APPROVED</td>\n",
       "    </tr>\n",
       "    <tr>\n",
       "      <th>4</th>\n",
       "      <td>5053320104</td>\n",
       "      <td>INTERESTED</td>\n",
       "      <td>orange</td>\n",
       "      <td>4</td>\n",
       "      <td>Ariel CAREY</td>\n",
       "      <td>north-west</td>\n",
       "      <td>construction</td>\n",
       "      <td>35</td>\n",
       "      <td>REJECTED</td>\n",
       "    </tr>\n",
       "    <tr>\n",
       "      <th>6</th>\n",
       "      <td>5917627210</td>\n",
       "      <td>INTERESTED</td>\n",
       "      <td>red</td>\n",
       "      <td>6</td>\n",
       "      <td>Cody MASSEY</td>\n",
       "      <td>south-east</td>\n",
       "      <td>food</td>\n",
       "      <td>25</td>\n",
       "      <td>APPROVED</td>\n",
       "    </tr>\n",
       "    <tr>\n",
       "      <th>9</th>\n",
       "      <td>2263150191</td>\n",
       "      <td>CALL BACK LATER</td>\n",
       "      <td>green</td>\n",
       "      <td>9</td>\n",
       "      <td>Shana MORENO</td>\n",
       "      <td>north-west</td>\n",
       "      <td>retail</td>\n",
       "      <td>54</td>\n",
       "      <td>NaN</td>\n",
       "    </tr>\n",
       "  </tbody>\n",
       "</table>\n",
       "</div>"
      ],
      "text/plain": [
       "   phone_number     call_outcome   Agent  Call Number          Lead  \\\n",
       "1    2878259249   ANSWER MACHINE     red            1  Henry MILLER   \n",
       "2    5762800010       INTERESTED     red            2   Liddie CHEN   \n",
       "4    5053320104       INTERESTED  orange            4   Ariel CAREY   \n",
       "6    5917627210       INTERESTED     red            6   Cody MASSEY   \n",
       "9    2263150191  CALL BACK LATER   green            9  Shana MORENO   \n",
       "\n",
       "       Region        Sector  Age Approval Decision  \n",
       "1       wales        retail   59               NaN  \n",
       "2  south-west        retail   21          APPROVED  \n",
       "4  north-west  construction   35          REJECTED  \n",
       "6  south-east          food   25          APPROVED  \n",
       "9  north-west        retail   54               NaN  "
      ]
     },
     "execution_count": 48,
     "metadata": {},
     "output_type": "execute_result"
    }
   ],
   "source": [
    "before.head()"
   ]
  },
  {
   "cell_type": "code",
   "execution_count": 49,
   "metadata": {},
   "outputs": [
    {
     "data": {
      "text/plain": [
       "2457"
      ]
     },
     "execution_count": 49,
     "metadata": {},
     "output_type": "execute_result"
    }
   ],
   "source": [
    "len(before['Lead'].unique())"
   ]
  },
  {
   "cell_type": "markdown",
   "metadata": {},
   "source": [
    "The number is still correct: 2457 unique leads who expressed interest, but now we also have all the other calls that were directed to them before they were marked as interested."
   ]
  },
  {
   "cell_type": "code",
   "execution_count": 50,
   "metadata": {},
   "outputs": [
    {
     "data": {
      "text/plain": [
       "Lead\n",
       "Abagail FERGUSON     1\n",
       "Abagail POWELL       2\n",
       "Abbigail WOODARD     3\n",
       "Abdul FOSTER         2\n",
       "Abigayle PONCE       4\n",
       "Abram MCCANN         4\n",
       "Acie HOLMES          3\n",
       "Ada BUTLER           4\n",
       "Ada WHEELER          2\n",
       "Adaline MOLINA       2\n",
       "Adam BRUCE           4\n",
       "Adan VARGAS          2\n",
       "Addie RUSSO          2\n",
       "Addie YOUNG          2\n",
       "Addison LAM          2\n",
       "Addison NORMAN       2\n",
       "Addison NORTON       2\n",
       "Adelina TAYLOR       6\n",
       "Adeline BOYD         1\n",
       "Adella BENTON        1\n",
       "Adella GORDON        1\n",
       "Aden WATTS           2\n",
       "Adria HENRY          2\n",
       "Adrian DOUGLAS       2\n",
       "Adrian RANDALL       2\n",
       "Adrianne BAIRD       2\n",
       "Adrienne BENTLEY     2\n",
       "Adrienne GARNER      2\n",
       "Afton DELACRUZ       4\n",
       "Agatha MORAN         5\n",
       "                    ..\n",
       "Yazmin YODER         1\n",
       "Yessenia HENSON      2\n",
       "Yetta HOOD           1\n",
       "Yolanda WRIGHT       3\n",
       "Yolonda GILLESPIE    1\n",
       "Yoshiko HATFIELD     2\n",
       "Yuliana HUNT         2\n",
       "Yuliana LAWRENCE     1\n",
       "Yusuf CALLAHAN       2\n",
       "Yusuf GAY            1\n",
       "Yusuf JOYCE          1\n",
       "Yvonne LESTER        2\n",
       "Zackary ALEXANDER    2\n",
       "Zackary RYAN         1\n",
       "Zackery KRAMER       2\n",
       "Zada RICHARD         1\n",
       "Zadie HAYDEN         2\n",
       "Zadie MORSE          3\n",
       "Zain LANE            1\n",
       "Zakary FISHER        1\n",
       "Zakary LEBLANC       1\n",
       "Zane RIVERA          1\n",
       "Zane WOLFE           1\n",
       "Zaria HOOPER         1\n",
       "Zavier MOODY         1\n",
       "Zena PERRY           2\n",
       "Zoey BEST            1\n",
       "Zoey MOYER           3\n",
       "Zola GUERRERO        1\n",
       "Zora HUTCHINSON      1\n",
       "Name: call_outcome, Length: 2457, dtype: int64"
      ]
     },
     "execution_count": 50,
     "metadata": {},
     "output_type": "execute_result"
    }
   ],
   "source": [
    "# And, now, we will count the number of calls per lead since all the calls will represent other Call Outcome categories as well,\n",
    "# thereby automatically denoting the number of calls per lead before they were classified as interested.\n",
    "\n",
    "before.groupby('Lead').call_outcome.count()"
   ]
  },
  {
   "cell_type": "code",
   "execution_count": 51,
   "metadata": {},
   "outputs": [
    {
     "data": {
      "text/plain": [
       "2.17"
      ]
     },
     "execution_count": 51,
     "metadata": {},
     "output_type": "execute_result"
    }
   ],
   "source": [
    "# Mean\n",
    "\n",
    "round(np.mean(before.groupby('Lead').call_outcome.count()),3)"
   ]
  },
  {
   "cell_type": "markdown",
   "metadata": {},
   "source": [
    "The mean number of calls before a lead was marked as interested was 2.17."
   ]
  },
  {
   "cell_type": "code",
   "execution_count": 52,
   "metadata": {},
   "outputs": [
    {
     "data": {
      "text/plain": [
       "2.0"
      ]
     },
     "execution_count": 52,
     "metadata": {},
     "output_type": "execute_result"
    }
   ],
   "source": [
    "# Median\n",
    "\n",
    "round(np.median(before.groupby('Lead').call_outcome.count()),3)"
   ]
  },
  {
   "cell_type": "markdown",
   "metadata": {},
   "source": [
    "The median was 2."
   ]
  },
  {
   "cell_type": "markdown",
   "metadata": {},
   "source": [
    "From a common-sense perspective, these numbers make sense. We can envision a situation in which a lead is unreachable at first or expresses potential interest, leading the center agents to call again. Any additional calls are likely to be seen as annoyance, so an average of two calls per person seems like a resonable statistic. "
   ]
  },
  {
   "cell_type": "markdown",
   "metadata": {},
   "source": [
    "**Most promising regions to express interest**\n",
    "\n",
    "Of course, we also might want to know which regions are most likely to express interest. We can figure out those numbers by implementing the analysis as follows:"
   ]
  },
  {
   "cell_type": "code",
   "execution_count": 53,
   "metadata": {},
   "outputs": [
    {
     "data": {
      "text/html": [
       "<div>\n",
       "<style scoped>\n",
       "    .dataframe tbody tr th:only-of-type {\n",
       "        vertical-align: middle;\n",
       "    }\n",
       "\n",
       "    .dataframe tbody tr th {\n",
       "        vertical-align: top;\n",
       "    }\n",
       "\n",
       "    .dataframe thead th {\n",
       "        text-align: right;\n",
       "    }\n",
       "</style>\n",
       "<table border=\"1\" class=\"dataframe\">\n",
       "  <thead>\n",
       "    <tr style=\"text-align: right;\">\n",
       "      <th></th>\n",
       "      <th>phone_number</th>\n",
       "      <th>Call Outcome</th>\n",
       "      <th>Agent</th>\n",
       "      <th>Call Number</th>\n",
       "      <th>Lead</th>\n",
       "      <th>Region</th>\n",
       "      <th>Sector</th>\n",
       "      <th>Age</th>\n",
       "      <th>Approval Decision</th>\n",
       "    </tr>\n",
       "  </thead>\n",
       "  <tbody>\n",
       "    <tr>\n",
       "      <th>2</th>\n",
       "      <td>5762800010</td>\n",
       "      <td>INTERESTED</td>\n",
       "      <td>red</td>\n",
       "      <td>2</td>\n",
       "      <td>Liddie CHEN</td>\n",
       "      <td>south-west</td>\n",
       "      <td>retail</td>\n",
       "      <td>21</td>\n",
       "      <td>APPROVED</td>\n",
       "    </tr>\n",
       "    <tr>\n",
       "      <th>4</th>\n",
       "      <td>5053320104</td>\n",
       "      <td>INTERESTED</td>\n",
       "      <td>orange</td>\n",
       "      <td>4</td>\n",
       "      <td>Ariel CAREY</td>\n",
       "      <td>north-west</td>\n",
       "      <td>construction</td>\n",
       "      <td>35</td>\n",
       "      <td>REJECTED</td>\n",
       "    </tr>\n",
       "    <tr>\n",
       "      <th>6</th>\n",
       "      <td>5917627210</td>\n",
       "      <td>INTERESTED</td>\n",
       "      <td>red</td>\n",
       "      <td>6</td>\n",
       "      <td>Cody MASSEY</td>\n",
       "      <td>south-east</td>\n",
       "      <td>food</td>\n",
       "      <td>25</td>\n",
       "      <td>APPROVED</td>\n",
       "    </tr>\n",
       "    <tr>\n",
       "      <th>29</th>\n",
       "      <td>9968931392</td>\n",
       "      <td>INTERESTED</td>\n",
       "      <td>green</td>\n",
       "      <td>29</td>\n",
       "      <td>Rylie WALSH</td>\n",
       "      <td>north-west</td>\n",
       "      <td>retail</td>\n",
       "      <td>21</td>\n",
       "      <td>APPROVED</td>\n",
       "    </tr>\n",
       "    <tr>\n",
       "      <th>30</th>\n",
       "      <td>1905656511</td>\n",
       "      <td>INTERESTED</td>\n",
       "      <td>red</td>\n",
       "      <td>30</td>\n",
       "      <td>Aurelia RODRIGUEZ</td>\n",
       "      <td>south-east</td>\n",
       "      <td>consultancy</td>\n",
       "      <td>31</td>\n",
       "      <td>REJECTED</td>\n",
       "    </tr>\n",
       "  </tbody>\n",
       "</table>\n",
       "</div>"
      ],
      "text/plain": [
       "    phone_number Call Outcome   Agent  Call Number               Lead  \\\n",
       "2     5762800010   INTERESTED     red            2        Liddie CHEN   \n",
       "4     5053320104   INTERESTED  orange            4        Ariel CAREY   \n",
       "6     5917627210   INTERESTED     red            6        Cody MASSEY   \n",
       "29    9968931392   INTERESTED   green           29        Rylie WALSH   \n",
       "30    1905656511   INTERESTED     red           30  Aurelia RODRIGUEZ   \n",
       "\n",
       "        Region        Sector  Age Approval Decision  \n",
       "2   south-west        retail   21          APPROVED  \n",
       "4   north-west  construction   35          REJECTED  \n",
       "6   south-east          food   25          APPROVED  \n",
       "29  north-west        retail   21          APPROVED  \n",
       "30  south-east   consultancy   31          REJECTED  "
      ]
     },
     "execution_count": 53,
     "metadata": {},
     "output_type": "execute_result"
    }
   ],
   "source": [
    "# Let's once again refer to the \"interested\" dataset, that contains all interested leads.\n",
    "\n",
    "interested.head()"
   ]
  },
  {
   "cell_type": "code",
   "execution_count": 54,
   "metadata": {},
   "outputs": [],
   "source": [
    "# Let's make sure to remove duplicates of the interested ones, in case such exist:\n",
    "\n",
    "interested_cleaned = interested.drop_duplicates('Lead', keep = 'last')"
   ]
  },
  {
   "cell_type": "code",
   "execution_count": 55,
   "metadata": {},
   "outputs": [
    {
     "name": "stdout",
     "output_type": "stream",
     "text": [
      "<class 'pandas.core.frame.DataFrame'>\n",
      "Int64Index: 2457 entries, 2 to 9998\n",
      "Data columns (total 9 columns):\n",
      "phone_number         2457 non-null int64\n",
      "Call Outcome         2457 non-null object\n",
      "Agent                2457 non-null object\n",
      "Call Number          2457 non-null int64\n",
      "Lead                 2457 non-null object\n",
      "Region               2457 non-null object\n",
      "Sector               2457 non-null object\n",
      "Age                  2457 non-null int64\n",
      "Approval Decision    1506 non-null object\n",
      "dtypes: int64(3), object(6)\n",
      "memory usage: 192.0+ KB\n"
     ]
    }
   ],
   "source": [
    "interested_cleaned.info()"
   ]
  },
  {
   "cell_type": "markdown",
   "metadata": {},
   "source": [
    "As can be seen, every interested lead was a unique lead, so no duplicates existed. "
   ]
  },
  {
   "cell_type": "code",
   "execution_count": 56,
   "metadata": {},
   "outputs": [],
   "source": [
    "interest_per_region = interested.groupby('Region').Lead.count()"
   ]
  },
  {
   "cell_type": "code",
   "execution_count": 57,
   "metadata": {},
   "outputs": [
    {
     "data": {
      "text/plain": [
       "Region\n",
       "london              128\n",
       "midlands            333\n",
       "north-east          292\n",
       "north-west          763\n",
       "northern-ireland     75\n",
       "scotland            309\n",
       "south               131\n",
       "south-east          324\n",
       "south-west          364\n",
       "wales               121\n",
       "Name: Lead, dtype: int64"
      ]
     },
     "execution_count": 57,
     "metadata": {},
     "output_type": "execute_result"
    }
   ],
   "source": [
    "interest_per_region"
   ]
  },
  {
   "cell_type": "markdown",
   "metadata": {},
   "source": [
    "Out of all the leads expressing interest, *north-west* region had the highest number of interested leads. This is an absolute number, however, and shows only which region will have the highest number of interested leads *out of leads that express interest*. We will now look how likely a lead will express interest based on all leads per region -- in other words, we will normalize once again. "
   ]
  },
  {
   "cell_type": "code",
   "execution_count": 58,
   "metadata": {},
   "outputs": [],
   "source": [
    "# To get a proportion of leads expressing interest per region, we need to find leads per region that did not express interest. \n",
    "\n",
    "no_interest = data_merged[data_merged.Lead.isin(interested['Lead']) == False]"
   ]
  },
  {
   "cell_type": "code",
   "execution_count": 59,
   "metadata": {},
   "outputs": [
    {
     "data": {
      "text/html": [
       "<div>\n",
       "<style scoped>\n",
       "    .dataframe tbody tr th:only-of-type {\n",
       "        vertical-align: middle;\n",
       "    }\n",
       "\n",
       "    .dataframe tbody tr th {\n",
       "        vertical-align: top;\n",
       "    }\n",
       "\n",
       "    .dataframe thead th {\n",
       "        text-align: right;\n",
       "    }\n",
       "</style>\n",
       "<table border=\"1\" class=\"dataframe\">\n",
       "  <thead>\n",
       "    <tr style=\"text-align: right;\">\n",
       "      <th></th>\n",
       "      <th>phone_number</th>\n",
       "      <th>call_outcome</th>\n",
       "      <th>Agent</th>\n",
       "      <th>Call Number</th>\n",
       "      <th>Lead</th>\n",
       "      <th>Region</th>\n",
       "      <th>Sector</th>\n",
       "      <th>Age</th>\n",
       "      <th>Approval Decision</th>\n",
       "    </tr>\n",
       "  </thead>\n",
       "  <tbody>\n",
       "    <tr>\n",
       "      <th>0</th>\n",
       "      <td>6412714192</td>\n",
       "      <td>NOT INTERESTED</td>\n",
       "      <td>black</td>\n",
       "      <td>0</td>\n",
       "      <td>Autumn DAVIS</td>\n",
       "      <td>south</td>\n",
       "      <td>entertainment</td>\n",
       "      <td>48</td>\n",
       "      <td>NaN</td>\n",
       "    </tr>\n",
       "    <tr>\n",
       "      <th>3</th>\n",
       "      <td>9742942608</td>\n",
       "      <td>ANSWER MACHINE</td>\n",
       "      <td>orange</td>\n",
       "      <td>3</td>\n",
       "      <td>Alyson YU</td>\n",
       "      <td>north-west</td>\n",
       "      <td>wholesale</td>\n",
       "      <td>72</td>\n",
       "      <td>NaN</td>\n",
       "    </tr>\n",
       "    <tr>\n",
       "      <th>5</th>\n",
       "      <td>5829556629</td>\n",
       "      <td>ANSWER MACHINE</td>\n",
       "      <td>red</td>\n",
       "      <td>5</td>\n",
       "      <td>Adaline SCHMIDT</td>\n",
       "      <td>north-east</td>\n",
       "      <td>retail</td>\n",
       "      <td>33</td>\n",
       "      <td>NaN</td>\n",
       "    </tr>\n",
       "    <tr>\n",
       "      <th>7</th>\n",
       "      <td>2880720829</td>\n",
       "      <td>NOT INTERESTED</td>\n",
       "      <td>red</td>\n",
       "      <td>7</td>\n",
       "      <td>Mabel ASHLEY</td>\n",
       "      <td>south</td>\n",
       "      <td>retail</td>\n",
       "      <td>20</td>\n",
       "      <td>NaN</td>\n",
       "    </tr>\n",
       "    <tr>\n",
       "      <th>8</th>\n",
       "      <td>5940892214</td>\n",
       "      <td>NOT INTERESTED</td>\n",
       "      <td>black</td>\n",
       "      <td>8</td>\n",
       "      <td>Yareli WALTON</td>\n",
       "      <td>midlands</td>\n",
       "      <td>retail</td>\n",
       "      <td>25</td>\n",
       "      <td>NaN</td>\n",
       "    </tr>\n",
       "  </tbody>\n",
       "</table>\n",
       "</div>"
      ],
      "text/plain": [
       "   phone_number    call_outcome   Agent  Call Number             Lead  \\\n",
       "0    6412714192  NOT INTERESTED   black            0     Autumn DAVIS   \n",
       "3    9742942608  ANSWER MACHINE  orange            3        Alyson YU   \n",
       "5    5829556629  ANSWER MACHINE     red            5  Adaline SCHMIDT   \n",
       "7    2880720829  NOT INTERESTED     red            7     Mabel ASHLEY   \n",
       "8    5940892214  NOT INTERESTED   black            8    Yareli WALTON   \n",
       "\n",
       "       Region         Sector  Age Approval Decision  \n",
       "0       south  entertainment   48               NaN  \n",
       "3  north-west      wholesale   72               NaN  \n",
       "5  north-east         retail   33               NaN  \n",
       "7       south         retail   20               NaN  \n",
       "8    midlands         retail   25               NaN  "
      ]
     },
     "execution_count": 59,
     "metadata": {},
     "output_type": "execute_result"
    }
   ],
   "source": [
    "no_interest.head()"
   ]
  },
  {
   "cell_type": "code",
   "execution_count": 60,
   "metadata": {},
   "outputs": [
    {
     "name": "stdout",
     "output_type": "stream",
     "text": [
      "<class 'pandas.core.frame.DataFrame'>\n",
      "Int64Index: 4669 entries, 0 to 9999\n",
      "Data columns (total 9 columns):\n",
      "phone_number         4669 non-null int64\n",
      "call_outcome         4669 non-null object\n",
      "Agent                4669 non-null object\n",
      "Call Number          4669 non-null int64\n",
      "Lead                 4669 non-null object\n",
      "Region               4669 non-null object\n",
      "Sector               4669 non-null object\n",
      "Age                  4669 non-null int64\n",
      "Approval Decision    0 non-null object\n",
      "dtypes: int64(3), object(6)\n",
      "memory usage: 364.8+ KB\n"
     ]
    }
   ],
   "source": [
    "no_interest.info()"
   ]
  },
  {
   "cell_type": "code",
   "execution_count": 61,
   "metadata": {},
   "outputs": [],
   "source": [
    "# Let's also make sure that such leads are unique for each category\n",
    "\n",
    "no_interest_cleaned = no_interest.drop_duplicates('Lead', keep = 'last')"
   ]
  },
  {
   "cell_type": "code",
   "execution_count": 62,
   "metadata": {},
   "outputs": [
    {
     "name": "stdout",
     "output_type": "stream",
     "text": [
      "<class 'pandas.core.frame.DataFrame'>\n",
      "Int64Index: 2709 entries, 0 to 9999\n",
      "Data columns (total 9 columns):\n",
      "phone_number         2709 non-null int64\n",
      "call_outcome         2709 non-null object\n",
      "Agent                2709 non-null object\n",
      "Call Number          2709 non-null int64\n",
      "Lead                 2709 non-null object\n",
      "Region               2709 non-null object\n",
      "Sector               2709 non-null object\n",
      "Age                  2709 non-null int64\n",
      "Approval Decision    0 non-null object\n",
      "dtypes: int64(3), object(6)\n",
      "memory usage: 211.6+ KB\n"
     ]
    }
   ],
   "source": [
    "no_interest_cleaned.info()"
   ]
  },
  {
   "cell_type": "code",
   "execution_count": 63,
   "metadata": {},
   "outputs": [],
   "source": [
    "# Now, let's count the number of unique leads per region who didn't express interest\n",
    "\n",
    "no_interest_per_region = no_interest_cleaned.groupby('Region').Lead.count()"
   ]
  },
  {
   "cell_type": "code",
   "execution_count": 64,
   "metadata": {},
   "outputs": [
    {
     "data": {
      "text/plain": [
       "Region\n",
       "london               42\n",
       "midlands            535\n",
       "north-east          320\n",
       "north-west          514\n",
       "northern-ireland     98\n",
       "scotland            335\n",
       "south               158\n",
       "south-east          290\n",
       "south-west          245\n",
       "wales               172\n",
       "Name: Lead, dtype: int64"
      ]
     },
     "execution_count": 64,
     "metadata": {},
     "output_type": "execute_result"
    }
   ],
   "source": [
    "no_interest_per_region"
   ]
  },
  {
   "cell_type": "code",
   "execution_count": 65,
   "metadata": {},
   "outputs": [],
   "source": [
    "# Let's get total number of unique leads per region\n",
    "\n",
    "unique_leads_per_region = interest_per_region + no_interest_per_region"
   ]
  },
  {
   "cell_type": "code",
   "execution_count": 66,
   "metadata": {},
   "outputs": [
    {
     "data": {
      "text/plain": [
       "Region\n",
       "london               170\n",
       "midlands             868\n",
       "north-east           612\n",
       "north-west          1277\n",
       "northern-ireland     173\n",
       "scotland             644\n",
       "south                289\n",
       "south-east           614\n",
       "south-west           609\n",
       "wales                293\n",
       "Name: Lead, dtype: int64"
      ]
     },
     "execution_count": 66,
     "metadata": {},
     "output_type": "execute_result"
    }
   ],
   "source": [
    "unique_leads_per_region"
   ]
  },
  {
   "cell_type": "code",
   "execution_count": 67,
   "metadata": {},
   "outputs": [],
   "source": [
    "# Proportion of leads per region who express interest\n",
    "\n",
    "interested_leads_per_region = interest_per_region / unique_leads_per_region"
   ]
  },
  {
   "cell_type": "code",
   "execution_count": 68,
   "metadata": {},
   "outputs": [
    {
     "data": {
      "text/plain": [
       "Region\n",
       "london              0.752941\n",
       "midlands            0.383641\n",
       "north-east          0.477124\n",
       "north-west          0.597494\n",
       "northern-ireland    0.433526\n",
       "scotland            0.479814\n",
       "south               0.453287\n",
       "south-east          0.527687\n",
       "south-west          0.597701\n",
       "wales               0.412969\n",
       "Name: Lead, dtype: float64"
      ]
     },
     "execution_count": 68,
     "metadata": {},
     "output_type": "execute_result"
    }
   ],
   "source": [
    "interested_leads_per_region"
   ]
  },
  {
   "cell_type": "markdown",
   "metadata": {},
   "source": [
    "We can see that the highest proportion of leads expressing interest belongs to the *london* region (75%). The *north-west* region, on the other hand, has approximately 60% leads expressing interest. "
   ]
  },
  {
   "cell_type": "markdown",
   "metadata": {},
   "source": [
    "**Most promising regions to get signups approved**"
   ]
  },
  {
   "cell_type": "markdown",
   "metadata": {},
   "source": [
    "On a similar note, we also might want to know which regions are most likely to have signups *approved* (based on the company's internal critera). We implement the analysis as follows:"
   ]
  },
  {
   "cell_type": "code",
   "execution_count": 69,
   "metadata": {},
   "outputs": [],
   "source": [
    "# Renaming the Approval Decision column for syntax processing purposes\n",
    "\n",
    "expanded_signups = expanded_signups.rename({'Approval Decision':'approval_decision'}, axis='columns')"
   ]
  },
  {
   "cell_type": "code",
   "execution_count": 70,
   "metadata": {},
   "outputs": [],
   "source": [
    "# Let's extract only approved signups:\n",
    "\n",
    "approved_signups = expanded_signups[expanded_signups['approval_decision'] == 'APPROVED']"
   ]
  },
  {
   "cell_type": "code",
   "execution_count": 71,
   "metadata": {},
   "outputs": [
    {
     "data": {
      "text/html": [
       "<div>\n",
       "<style scoped>\n",
       "    .dataframe tbody tr th:only-of-type {\n",
       "        vertical-align: middle;\n",
       "    }\n",
       "\n",
       "    .dataframe tbody tr th {\n",
       "        vertical-align: top;\n",
       "    }\n",
       "\n",
       "    .dataframe thead th {\n",
       "        text-align: right;\n",
       "    }\n",
       "</style>\n",
       "<table border=\"1\" class=\"dataframe\">\n",
       "  <thead>\n",
       "    <tr style=\"text-align: right;\">\n",
       "      <th></th>\n",
       "      <th>Lead</th>\n",
       "      <th>approval_decision</th>\n",
       "      <th>Phone Number</th>\n",
       "      <th>Call Outcome</th>\n",
       "      <th>Agent</th>\n",
       "      <th>Call Number</th>\n",
       "      <th>Region</th>\n",
       "      <th>Sector</th>\n",
       "      <th>Age</th>\n",
       "    </tr>\n",
       "  </thead>\n",
       "  <tbody>\n",
       "    <tr>\n",
       "      <th>0</th>\n",
       "      <td>Liddie CHEN</td>\n",
       "      <td>APPROVED</td>\n",
       "      <td>5762800010</td>\n",
       "      <td>INTERESTED</td>\n",
       "      <td>red</td>\n",
       "      <td>2</td>\n",
       "      <td>south-west</td>\n",
       "      <td>retail</td>\n",
       "      <td>21</td>\n",
       "    </tr>\n",
       "    <tr>\n",
       "      <th>2</th>\n",
       "      <td>Rylie WALSH</td>\n",
       "      <td>APPROVED</td>\n",
       "      <td>9968931392</td>\n",
       "      <td>INTERESTED</td>\n",
       "      <td>green</td>\n",
       "      <td>29</td>\n",
       "      <td>north-west</td>\n",
       "      <td>retail</td>\n",
       "      <td>21</td>\n",
       "    </tr>\n",
       "    <tr>\n",
       "      <th>4</th>\n",
       "      <td>Jaycee GOLDEN</td>\n",
       "      <td>APPROVED</td>\n",
       "      <td>6109626331</td>\n",
       "      <td>INTERESTED</td>\n",
       "      <td>black</td>\n",
       "      <td>4419</td>\n",
       "      <td>scotland</td>\n",
       "      <td>wholesale</td>\n",
       "      <td>42</td>\n",
       "    </tr>\n",
       "    <tr>\n",
       "      <th>5</th>\n",
       "      <td>Armani EWING</td>\n",
       "      <td>APPROVED</td>\n",
       "      <td>5898548147</td>\n",
       "      <td>INTERESTED</td>\n",
       "      <td>red</td>\n",
       "      <td>38</td>\n",
       "      <td>scotland</td>\n",
       "      <td>consultancy</td>\n",
       "      <td>21</td>\n",
       "    </tr>\n",
       "    <tr>\n",
       "      <th>6</th>\n",
       "      <td>Khadijah MARKS</td>\n",
       "      <td>APPROVED</td>\n",
       "      <td>8489331514</td>\n",
       "      <td>INTERESTED</td>\n",
       "      <td>black</td>\n",
       "      <td>53</td>\n",
       "      <td>south-east</td>\n",
       "      <td>consultancy</td>\n",
       "      <td>56</td>\n",
       "    </tr>\n",
       "  </tbody>\n",
       "</table>\n",
       "</div>"
      ],
      "text/plain": [
       "             Lead approval_decision  Phone Number Call Outcome  Agent  \\\n",
       "0     Liddie CHEN          APPROVED    5762800010   INTERESTED    red   \n",
       "2     Rylie WALSH          APPROVED    9968931392   INTERESTED  green   \n",
       "4   Jaycee GOLDEN          APPROVED    6109626331   INTERESTED  black   \n",
       "5    Armani EWING          APPROVED    5898548147   INTERESTED    red   \n",
       "6  Khadijah MARKS          APPROVED    8489331514   INTERESTED  black   \n",
       "\n",
       "   Call Number      Region       Sector  Age  \n",
       "0            2  south-west       retail   21  \n",
       "2           29  north-west       retail   21  \n",
       "4         4419    scotland    wholesale   42  \n",
       "5           38    scotland  consultancy   21  \n",
       "6           53  south-east  consultancy   56  "
      ]
     },
     "execution_count": 71,
     "metadata": {},
     "output_type": "execute_result"
    }
   ],
   "source": [
    "approved_signups.head()"
   ]
  },
  {
   "cell_type": "code",
   "execution_count": 72,
   "metadata": {},
   "outputs": [
    {
     "name": "stdout",
     "output_type": "stream",
     "text": [
      "<class 'pandas.core.frame.DataFrame'>\n",
      "Int64Index: 1063 entries, 0 to 1505\n",
      "Data columns (total 9 columns):\n",
      "Lead                 1063 non-null object\n",
      "approval_decision    1063 non-null object\n",
      "Phone Number         1063 non-null int64\n",
      "Call Outcome         1063 non-null object\n",
      "Agent                1063 non-null object\n",
      "Call Number          1063 non-null int64\n",
      "Region               1063 non-null object\n",
      "Sector               1063 non-null object\n",
      "Age                  1063 non-null int64\n",
      "dtypes: int64(3), object(6)\n",
      "memory usage: 83.0+ KB\n"
     ]
    }
   ],
   "source": [
    "approved_signups.info()"
   ]
  },
  {
   "cell_type": "code",
   "execution_count": 73,
   "metadata": {},
   "outputs": [],
   "source": [
    "# Let's count the number of approved signups per region\n",
    "\n",
    "approved_per_region = approved_signups.groupby('Region').approval_decision.count()"
   ]
  },
  {
   "cell_type": "code",
   "execution_count": 74,
   "metadata": {},
   "outputs": [
    {
     "data": {
      "text/plain": [
       "Region\n",
       "london               24\n",
       "midlands            128\n",
       "north-east          102\n",
       "north-west          321\n",
       "northern-ireland     14\n",
       "scotland            140\n",
       "south                61\n",
       "south-east          114\n",
       "south-west          125\n",
       "wales                34\n",
       "Name: approval_decision, dtype: int64"
      ]
     },
     "execution_count": 74,
     "metadata": {},
     "output_type": "execute_result"
    }
   ],
   "source": [
    "approved_per_region"
   ]
  },
  {
   "cell_type": "markdown",
   "metadata": {},
   "source": [
    "As we can see, north-west gets the highest number of approved signups out of all the approved signups. Once again, we will look at the proportion of approved signups to do a normalized comparison between the regions. "
   ]
  },
  {
   "cell_type": "code",
   "execution_count": 75,
   "metadata": {},
   "outputs": [],
   "source": [
    "# Let's extract only the rejected signups per region:\n",
    "\n",
    "rejected_signups = expanded_signups[expanded_signups['approval_decision'] == 'REJECTED']"
   ]
  },
  {
   "cell_type": "code",
   "execution_count": 76,
   "metadata": {},
   "outputs": [
    {
     "data": {
      "text/html": [
       "<div>\n",
       "<style scoped>\n",
       "    .dataframe tbody tr th:only-of-type {\n",
       "        vertical-align: middle;\n",
       "    }\n",
       "\n",
       "    .dataframe tbody tr th {\n",
       "        vertical-align: top;\n",
       "    }\n",
       "\n",
       "    .dataframe thead th {\n",
       "        text-align: right;\n",
       "    }\n",
       "</style>\n",
       "<table border=\"1\" class=\"dataframe\">\n",
       "  <thead>\n",
       "    <tr style=\"text-align: right;\">\n",
       "      <th></th>\n",
       "      <th>Lead</th>\n",
       "      <th>approval_decision</th>\n",
       "      <th>Phone Number</th>\n",
       "      <th>Call Outcome</th>\n",
       "      <th>Agent</th>\n",
       "      <th>Call Number</th>\n",
       "      <th>Region</th>\n",
       "      <th>Sector</th>\n",
       "      <th>Age</th>\n",
       "    </tr>\n",
       "  </thead>\n",
       "  <tbody>\n",
       "    <tr>\n",
       "      <th>1</th>\n",
       "      <td>Ariel CAREY</td>\n",
       "      <td>REJECTED</td>\n",
       "      <td>5053320104</td>\n",
       "      <td>INTERESTED</td>\n",
       "      <td>orange</td>\n",
       "      <td>4</td>\n",
       "      <td>north-west</td>\n",
       "      <td>construction</td>\n",
       "      <td>35</td>\n",
       "    </tr>\n",
       "    <tr>\n",
       "      <th>3</th>\n",
       "      <td>Aurelia RODRIGUEZ</td>\n",
       "      <td>REJECTED</td>\n",
       "      <td>1905656511</td>\n",
       "      <td>INTERESTED</td>\n",
       "      <td>red</td>\n",
       "      <td>30</td>\n",
       "      <td>south-east</td>\n",
       "      <td>consultancy</td>\n",
       "      <td>31</td>\n",
       "    </tr>\n",
       "    <tr>\n",
       "      <th>8</th>\n",
       "      <td>Signe LUCAS</td>\n",
       "      <td>REJECTED</td>\n",
       "      <td>1483611616</td>\n",
       "      <td>INTERESTED</td>\n",
       "      <td>orange</td>\n",
       "      <td>7033</td>\n",
       "      <td>scotland</td>\n",
       "      <td>consultancy</td>\n",
       "      <td>18</td>\n",
       "    </tr>\n",
       "    <tr>\n",
       "      <th>10</th>\n",
       "      <td>Winifred DENNIS</td>\n",
       "      <td>REJECTED</td>\n",
       "      <td>747888557</td>\n",
       "      <td>INTERESTED</td>\n",
       "      <td>orange</td>\n",
       "      <td>121</td>\n",
       "      <td>north-east</td>\n",
       "      <td>wholesale</td>\n",
       "      <td>26</td>\n",
       "    </tr>\n",
       "    <tr>\n",
       "      <th>11</th>\n",
       "      <td>Jolie WOLFE</td>\n",
       "      <td>REJECTED</td>\n",
       "      <td>2990784871</td>\n",
       "      <td>INTERESTED</td>\n",
       "      <td>red</td>\n",
       "      <td>125</td>\n",
       "      <td>south-east</td>\n",
       "      <td>agriculture</td>\n",
       "      <td>18</td>\n",
       "    </tr>\n",
       "  </tbody>\n",
       "</table>\n",
       "</div>"
      ],
      "text/plain": [
       "                 Lead approval_decision  Phone Number Call Outcome   Agent  \\\n",
       "1         Ariel CAREY          REJECTED    5053320104   INTERESTED  orange   \n",
       "3   Aurelia RODRIGUEZ          REJECTED    1905656511   INTERESTED     red   \n",
       "8         Signe LUCAS          REJECTED    1483611616   INTERESTED  orange   \n",
       "10    Winifred DENNIS          REJECTED     747888557   INTERESTED  orange   \n",
       "11        Jolie WOLFE          REJECTED    2990784871   INTERESTED     red   \n",
       "\n",
       "    Call Number      Region        Sector  Age  \n",
       "1             4  north-west  construction   35  \n",
       "3            30  south-east   consultancy   31  \n",
       "8          7033    scotland   consultancy   18  \n",
       "10          121  north-east     wholesale   26  \n",
       "11          125  south-east   agriculture   18  "
      ]
     },
     "execution_count": 76,
     "metadata": {},
     "output_type": "execute_result"
    }
   ],
   "source": [
    "rejected_signups.head()"
   ]
  },
  {
   "cell_type": "code",
   "execution_count": 77,
   "metadata": {},
   "outputs": [
    {
     "name": "stdout",
     "output_type": "stream",
     "text": [
      "<class 'pandas.core.frame.DataFrame'>\n",
      "Int64Index: 443 entries, 1 to 1504\n",
      "Data columns (total 9 columns):\n",
      "Lead                 443 non-null object\n",
      "approval_decision    443 non-null object\n",
      "Phone Number         443 non-null int64\n",
      "Call Outcome         443 non-null object\n",
      "Agent                443 non-null object\n",
      "Call Number          443 non-null int64\n",
      "Region               443 non-null object\n",
      "Sector               443 non-null object\n",
      "Age                  443 non-null int64\n",
      "dtypes: int64(3), object(6)\n",
      "memory usage: 34.6+ KB\n"
     ]
    }
   ],
   "source": [
    "rejected_signups.info()"
   ]
  },
  {
   "cell_type": "code",
   "execution_count": 78,
   "metadata": {},
   "outputs": [],
   "source": [
    "# Now we count the number of rejected signups per region \n",
    "\n",
    "rejected_per_region = rejected_signups.groupby('Region').approval_decision.count()"
   ]
  },
  {
   "cell_type": "code",
   "execution_count": 79,
   "metadata": {},
   "outputs": [
    {
     "data": {
      "text/plain": [
       "Region\n",
       "london              42\n",
       "midlands            67\n",
       "north-east          56\n",
       "north-west          81\n",
       "northern-ireland    21\n",
       "scotland            24\n",
       "south               17\n",
       "south-east          54\n",
       "south-west          55\n",
       "wales               26\n",
       "Name: approval_decision, dtype: int64"
      ]
     },
     "execution_count": 79,
     "metadata": {},
     "output_type": "execute_result"
    }
   ],
   "source": [
    "rejected_per_region"
   ]
  },
  {
   "cell_type": "code",
   "execution_count": 80,
   "metadata": {},
   "outputs": [],
   "source": [
    "# Now, let's get the total number of signups per region:\n",
    "\n",
    "total_per_region = approved_per_region + rejected_per_region"
   ]
  },
  {
   "cell_type": "code",
   "execution_count": 81,
   "metadata": {},
   "outputs": [
    {
     "data": {
      "text/plain": [
       "Region\n",
       "london               66\n",
       "midlands            195\n",
       "north-east          158\n",
       "north-west          402\n",
       "northern-ireland     35\n",
       "scotland            164\n",
       "south                78\n",
       "south-east          168\n",
       "south-west          180\n",
       "wales                60\n",
       "Name: approval_decision, dtype: int64"
      ]
     },
     "execution_count": 81,
     "metadata": {},
     "output_type": "execute_result"
    }
   ],
   "source": [
    "total_per_region"
   ]
  },
  {
   "cell_type": "code",
   "execution_count": 82,
   "metadata": {},
   "outputs": [],
   "source": [
    "# And, finally, we extract the proportion of leads per region that get approved:\n",
    "\n",
    "approved_proportion = approved_per_region / total_per_region"
   ]
  },
  {
   "cell_type": "code",
   "execution_count": 83,
   "metadata": {},
   "outputs": [
    {
     "data": {
      "text/plain": [
       "Region\n",
       "london              0.363636\n",
       "midlands            0.656410\n",
       "north-east          0.645570\n",
       "north-west          0.798507\n",
       "northern-ireland    0.400000\n",
       "scotland            0.853659\n",
       "south               0.782051\n",
       "south-east          0.678571\n",
       "south-west          0.694444\n",
       "wales               0.566667\n",
       "Name: approval_decision, dtype: float64"
      ]
     },
     "execution_count": 83,
     "metadata": {},
     "output_type": "execute_result"
    }
   ],
   "source": [
    "approved_proportion"
   ]
  },
  {
   "cell_type": "markdown",
   "metadata": {},
   "source": [
    "It seems that Scotland has the highest proportion of approved signups (85%). Northwest region is still on the higher end, with approximately 80% proportion of approved signups. From a proportion perspective, Scotland would be most likely to have a signup approved. "
   ]
  },
  {
   "cell_type": "markdown",
   "metadata": {},
   "source": [
    "**Uncertainty on the calculated proportion**"
   ]
  },
  {
   "cell_type": "markdown",
   "metadata": {},
   "source": [
    "To finalize the previous calculation and conclude this analysis, we can also infer where the true proportion of approved signups would lie, given the data on these calls. If we treat the 'Approval Decision' variable as a binominal distribution with Bernoulli trials consisting of approved as '1' and rejected as '0', we can use the formula for confidence interval of a proportion to infer the range for true proportion. We can derive the formula as follows:\n",
    "\n",
    "*Variance of a variable*\n",
    "\n",
    "$\n",
    "\\begin{equation} \n",
    "{\\sigma^2} = \\frac{\\sum\\limits_{i=1}^n(x_i - \\bar{x})}{n}\n",
    "\\end{equation}\n",
    "$\n",
    "\n",
    "*Defining success and failure variables*\n",
    "\n",
    "m : number of success (approvals)\n",
    "\n",
    "n : size of sample \n",
    "\n",
    "p : probability of success\n",
    "\n",
    "*Equating probability of success with propotion of successes*\n",
    "\n",
    "$\n",
    "\\begin{equation} \n",
    "{p} = \\frac{m}{n}\n",
    "\\end{equation}\n",
    "$\n",
    "\n",
    "So, the overall mean of the sample will be $\n",
    "\\begin{equation} \n",
    "\\frac{m}{n}\n",
    "\\end{equation}\n",
    "$, while each data point will be either 1 (success) or 0 (failure). We know that we have $\n",
    "\\begin{equation} \n",
    "{m}\n",
    "\\end{equation}\n",
    "$ successes, and $\n",
    "\\begin{equation} \n",
    "{n-m}\n",
    "\\end{equation}\n",
    "$ failures. Substituting into the variance equation, we get:\n",
    "\n",
    "$\n",
    "\\begin{equation} \n",
    "{\\sigma^2} = \\frac{m\\:(1\\:-\\:\\frac{m}{n})^2 + (n-m)\\:(0\\:-\\:\\frac{m}{n})^2}{n}\n",
    "\\end{equation}\n",
    "$\n",
    "\n",
    "As we substitute for probability of success, that ultimately leads us to:\n",
    "\n",
    "$\n",
    "\\begin{equation} \n",
    "{\\sigma^2} = p\\:(1-p)\n",
    "\\end{equation}\n",
    "$\n",
    "\n",
    "From the variance, we can extract the standard deviation as:\n",
    "\n",
    "$\n",
    "\\begin{equation} \n",
    "{\\sigma} = \\sqrt{p\\:(1-p)}\n",
    "\\end{equation}\n",
    "$\n",
    "\n",
    "For a sampled distribution (since we can recognize this data as a sample of the entire population), we implement the formula for standard error:\n",
    "\n",
    "$\n",
    "\\begin{equation} \n",
    "{SE} = \\frac{\\sigma}{\\sqrt{n}}\n",
    "\\end{equation}\n",
    "$\n",
    "\n",
    "Substituting for the extracted standard deviation of proportion, we get that:\n",
    "\n",
    "$\n",
    "\\begin{equation} \n",
    "{SE} = \\sqrt{\\frac{p\\:(1-p)}{n}}\n",
    "\\end{equation}\n",
    "$\n",
    "\n",
    "Finally, using a z-statistic for samples of large size, we get the true range for the proportion of population through confidence interval:\n",
    "\n",
    "$\n",
    "\\begin{equation} \n",
    "{CI} = p \\: {\\pm}\\: z\\:\\sqrt{\\frac{p\\:(1-p)}{n}}\n",
    "\\end{equation}\n",
    "$\n",
    "\n",
    "where *p* is going to be the desired proportion. \n",
    "\n",
    "And, now, we can implement the formula:"
   ]
  },
  {
   "cell_type": "code",
   "execution_count": 84,
   "metadata": {},
   "outputs": [
    {
     "data": {
      "text/plain": [
       "164"
      ]
     },
     "execution_count": 84,
     "metadata": {},
     "output_type": "execute_result"
    }
   ],
   "source": [
    "# Total size of the sample\n",
    "\n",
    "total_per_region['scotland']"
   ]
  },
  {
   "cell_type": "code",
   "execution_count": 85,
   "metadata": {},
   "outputs": [],
   "source": [
    "# Probability of success\n",
    "p = 0.853\n",
    "\n",
    "# Assigning n as the total size of the sample\n",
    "\n",
    "n = total_per_region['scotland']\n",
    "\n",
    "# Calculating the standard error of the sample\n",
    "\n",
    "standard_error_sample = np.sqrt((p*(1-p))/n)"
   ]
  },
  {
   "cell_type": "code",
   "execution_count": 86,
   "metadata": {},
   "outputs": [
    {
     "data": {
      "text/plain": [
       "0.028"
      ]
     },
     "execution_count": 86,
     "metadata": {},
     "output_type": "execute_result"
    }
   ],
   "source": [
    "round(standard_error_sample, 3)"
   ]
  },
  {
   "cell_type": "markdown",
   "metadata": {},
   "source": [
    "Standard error is qual to 2.8%. For a 95% confidence interval, the z-statistic is usually 1.96, so for the sake of simplicity, let's just use 2 as the value. This will also ensure we account for higher variance since we are only looking at a sample of a population. "
   ]
  },
  {
   "cell_type": "code",
   "execution_count": 87,
   "metadata": {},
   "outputs": [],
   "source": [
    "# Assigning the z-statistic\n",
    "\n",
    "z = 2"
   ]
  },
  {
   "cell_type": "code",
   "execution_count": 88,
   "metadata": {},
   "outputs": [],
   "source": [
    "# Let's get the actual interval by calculating the marginal error\n",
    "\n",
    "marginal_error = z*standard_error_sample"
   ]
  },
  {
   "cell_type": "code",
   "execution_count": 89,
   "metadata": {},
   "outputs": [
    {
     "data": {
      "text/plain": [
       "0.05530205306469853"
      ]
     },
     "execution_count": 89,
     "metadata": {},
     "output_type": "execute_result"
    }
   ],
   "source": [
    "marginal_error"
   ]
  },
  {
   "cell_type": "markdown",
   "metadata": {},
   "source": [
    "The marginal error is equal to approximately 5.5%. "
   ]
  },
  {
   "cell_type": "code",
   "execution_count": 90,
   "metadata": {},
   "outputs": [],
   "source": [
    "# Let's get the lower and upper bound of the error\n",
    "\n",
    "lower_bound = round(p - marginal_error, 3)\n",
    "upper_bound = round(p + marginal_error, 3)"
   ]
  },
  {
   "cell_type": "code",
   "execution_count": 91,
   "metadata": {},
   "outputs": [],
   "source": [
    "confidence_interval = [lower_bound, p, upper_bound]"
   ]
  },
  {
   "cell_type": "code",
   "execution_count": 92,
   "metadata": {},
   "outputs": [
    {
     "data": {
      "text/plain": [
       "[0.798, 0.853, 0.908]"
      ]
     },
     "execution_count": 92,
     "metadata": {},
     "output_type": "execute_result"
    }
   ],
   "source": [
    "confidence_interval"
   ]
  },
  {
   "cell_type": "markdown",
   "metadata": {},
   "source": [
    "The lower end of the error for the proportion is 79.8% and the upper end of the error for the proportion is 90.8%, as approximated from a 95% confidence interval. "
   ]
  }
 ],
 "metadata": {
  "kernelspec": {
   "display_name": "Python 2",
   "language": "python",
   "name": "python2"
  },
  "language_info": {
   "codemirror_mode": {
    "name": "ipython",
    "version": 2
   },
   "file_extension": ".py",
   "mimetype": "text/x-python",
   "name": "python",
   "nbconvert_exporter": "python",
   "pygments_lexer": "ipython2",
   "version": "2.7.15"
  }
 },
 "nbformat": 4,
 "nbformat_minor": 2
}
